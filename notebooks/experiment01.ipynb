{
 "cells": [
  {
   "cell_type": "markdown",
   "metadata": {},
   "source": [
    "This is the backup for using regular neg MSE as the objective"
   ]
  },
  {
   "cell_type": "markdown",
   "metadata": {},
   "source": [
    "import libraries"
   ]
  },
  {
   "cell_type": "code",
   "execution_count": 1,
   "metadata": {},
   "outputs": [],
   "source": [
    "import pandas as pd\n",
    "import numpy as np\n",
    "from sklearn.model_selection import train_test_split, GridSearchCV\n",
    "from sklearn.linear_model import LinearRegression\n",
    "from sklearn.ensemble import RandomForestRegressor\n",
    "from xgboost import XGBRegressor\n",
    "from sklearn.linear_model import Lasso, Ridge, ElasticNet\n",
    "\n",
    "from sklearn.metrics import mean_squared_error, r2_score"
   ]
  },
  {
   "cell_type": "markdown",
   "metadata": {},
   "source": [
    "First, read the pre-split data"
   ]
  },
  {
   "cell_type": "code",
   "execution_count": 2,
   "metadata": {},
   "outputs": [],
   "source": [
    "# Load the pre-split data\n",
    "X_train = pd.read_csv('data/X_train.csv')\n",
    "X_test = pd.read_csv('data/X_test.csv')\n",
    "y_train = pd.read_csv('data/y_train.csv').squeeze()  # Convert to Series\n",
    "y_test = pd.read_csv('data/y_test.csv').squeeze()    # Convert to Series"
   ]
  },
  {
   "cell_type": "code",
   "execution_count": 3,
   "metadata": {},
   "outputs": [
    {
     "name": "stdout",
     "output_type": "stream",
     "text": [
      "(329, 28)\n"
     ]
    }
   ],
   "source": [
    "print(X_train.shape)"
   ]
  },
  {
   "cell_type": "code",
   "execution_count": 4,
   "metadata": {},
   "outputs": [
    {
     "name": "stdout",
     "output_type": "stream",
     "text": [
      "resistance_line                     float64\n",
      "support_line                        float64\n",
      "start_date                           object\n",
      "end_date                             object\n",
      "num_candles                         float64\n",
      "price_range_pct                     float64\n",
      "num_res_hits                        float64\n",
      "num_sup_hits                        float64\n",
      "num_res_breakouts                   float64\n",
      "num_sup_breakouts                   float64\n",
      "alternation                         float64\n",
      "last_candle_return                  float64\n",
      "last_candle_pct_above_support       float64\n",
      "resistance_hits                      object\n",
      "support_hits                         object\n",
      "breakout_type                        object\n",
      "concentration_score                 float64\n",
      "customer_pre_sideway_bar_change     float64\n",
      "customer_post_sideway_bar_change    float64\n",
      "pre_sideway_5_bar_change            float64\n",
      "pre_sideway_10_bar_change           float64\n",
      "pre_sideway_22_bar_change           float64\n",
      "pre_sideway_44_bar_change           float64\n",
      "pre_sideway_132_bar_change          float64\n",
      "post_sideway_5_bar_change           float64\n",
      "concentration_score_scaled          float64\n",
      "alternation_score_scaled            float64\n",
      "sideway_score                       float64\n",
      "dtype: object\n"
     ]
    }
   ],
   "source": [
    "# Check data types\n",
    "print(X_train.dtypes)\n"
   ]
  },
  {
   "cell_type": "code",
   "execution_count": 5,
   "metadata": {},
   "outputs": [
    {
     "name": "stdout",
     "output_type": "stream",
     "text": [
      "float64\n"
     ]
    }
   ],
   "source": [
    "print(y_train.dtypes)"
   ]
  },
  {
   "cell_type": "code",
   "execution_count": 6,
   "metadata": {},
   "outputs": [
    {
     "name": "stdout",
     "output_type": "stream",
     "text": [
      "resistance_line                     0\n",
      "support_line                        0\n",
      "start_date                          0\n",
      "end_date                            0\n",
      "num_candles                         0\n",
      "price_range_pct                     0\n",
      "num_res_hits                        0\n",
      "num_sup_hits                        0\n",
      "num_res_breakouts                   0\n",
      "num_sup_breakouts                   0\n",
      "alternation                         0\n",
      "last_candle_return                  0\n",
      "last_candle_pct_above_support       0\n",
      "resistance_hits                     0\n",
      "support_hits                        0\n",
      "breakout_type                       0\n",
      "concentration_score                 0\n",
      "customer_pre_sideway_bar_change     0\n",
      "customer_post_sideway_bar_change    2\n",
      "pre_sideway_5_bar_change            0\n",
      "pre_sideway_10_bar_change           0\n",
      "pre_sideway_22_bar_change           0\n",
      "pre_sideway_44_bar_change           0\n",
      "pre_sideway_132_bar_change          0\n",
      "post_sideway_5_bar_change           0\n",
      "concentration_score_scaled          0\n",
      "alternation_score_scaled            0\n",
      "sideway_score                       0\n",
      "dtype: int64\n",
      "0\n"
     ]
    }
   ],
   "source": [
    "# Check for missing values\n",
    "print(X_train.isnull().sum())\n",
    "print(y_train.isnull().sum())"
   ]
  },
  {
   "cell_type": "markdown",
   "metadata": {},
   "source": [
    "Initialization of feature sets and models / hyperparameter grids"
   ]
  },
  {
   "cell_type": "code",
   "execution_count": null,
   "metadata": {},
   "outputs": [],
   "source": [
    "# Define the feature sets to experiment with\n",
    "feature_sets = {\n",
    "    'Feature_Set_1': ['num_candles','price_range_pct', 'num_res_hits', 'num_sup_hits', 'num_res_breakouts',\n",
    "       'num_sup_breakouts', 'alternation', 'last_candle_return',\n",
    "       'last_candle_pct_above_support',\n",
    "       'concentration_score_scaled', 'alternation_score_scaled'],\n",
    "    'Feature_Set_2': ['num_candles','price_range_pct', 'num_res_hits', 'num_sup_hits', 'num_res_breakouts',\n",
    "       'num_sup_breakouts', 'alternation', 'last_candle_return',\n",
    "       'last_candle_pct_above_support'],\n",
    "    'Feature_Set_3': ['num_candles','price_range_pct', 'num_res_hits', 'num_sup_hits', 'num_res_breakouts',\n",
    "       'num_sup_breakouts', 'alternation', 'last_candle_return'],\n",
    "    'Feature_Set_4': ['num_candles','price_range_pct', 'num_res_hits', 'num_sup_hits', 'num_res_breakouts',\n",
    "       'num_sup_breakouts', 'alternation', 'last_candle_return',\n",
    "       'last_candle_pct_above_support',\n",
    "       'concentration_score_scaled', 'alternation_score_scaled',\n",
    "       'pre_sideway_5_bar_change', 'pre_sideway_10_bar_change'],\n",
    "    'Feature_Set_5': ['num_candles','price_range_pct', 'num_res_hits', 'num_sup_hits', 'num_res_breakouts',\n",
    "       'num_sup_breakouts', 'alternation', 'last_candle_return',\n",
    "       'last_candle_pct_above_support',\n",
    "       'concentration_score_scaled', 'alternation_score_scaled',\n",
    "       'pre_sideway_5_bar_change', 'pre_sideway_10_bar_change',\n",
    "       'pre_sideway_22_bar_change', 'pre_sideway_44_bar_change',\n",
    "       'pre_sideway_132_bar_change'\n",
    "       ]\n",
    "    # Add more feature sets as needed\n",
    "}\n",
    "# feature set 1 is everything\n",
    "# feature set 2 is based on feature importance and domain\n",
    "# feature set 3 is reduction of feature set 2\n",
    "# feature set 4 is feature set 1 + presideways bar change (5,10) since no missing values\n",
    "# feature set 5 is feature set 1 + all presideway bar changes (5,10,22,44,132) where imputation of missing values handled with 0\n",
    "\n",
    "# Define models and hyperparameter grids\n",
    "models_and_params = {\n",
    "    'Linear Regression': {\n",
    "        'model': LinearRegression(),\n",
    "        'param_grid': {}  # No hyperparameters to tune for Linear Regression\n",
    "    },\n",
    "    'Random Forest': {\n",
    "        'model': RandomForestRegressor(random_state=42),\n",
    "        'param_grid': {\n",
    "            'n_estimators': [100, 200],\n",
    "            'max_depth': [5, 10],\n",
    "            'min_samples_split': [2, 5]\n",
    "        }\n",
    "    },\n",
    "    'XGBoost': {\n",
    "        'model': XGBRegressor(objective='reg:squarederror', random_state=42),\n",
    "        'param_grid': {\n",
    "            'n_estimators': [100, 200],\n",
    "            'max_depth': [3, 5],\n",
    "            'learning_rate': [0.1, 0.2],\n",
    "            'subsample': [0.8, 1.0]\n",
    "        }\n",
    "    },\n",
    "    'Lasso Regression': {\n",
    "        'model': Lasso(random_state=42),\n",
    "        'param_grid': {\n",
    "            'alpha': [0.01, 0.1, 1.0, 10.0]\n",
    "        }\n",
    "    },\n",
    "    'Ridge Regression': {\n",
    "        'model': Ridge(random_state=42),\n",
    "        'param_grid': {\n",
    "            'alpha': [0.01, 0.1, 1.0, 10.0]\n",
    "        }\n",
    "    },\n",
    "    'Elastic Net Regression': {\n",
    "        'model': ElasticNet(random_state=42),\n",
    "        'param_grid': {\n",
    "            'alpha': [0.01, 0.1, 1.0, 10.0],\n",
    "            'l1_ratio': [0.2, 0.5, 0.8]  # Controls L1 vs. L2 contribution\n",
    "        }\n",
    "    }\n",
    "}"
   ]
  },
  {
   "cell_type": "markdown",
   "metadata": {},
   "source": [
    "Search for best-performing model for each feature-set and overall"
   ]
  },
  {
   "cell_type": "code",
   "execution_count": 131,
   "metadata": {},
   "outputs": [
    {
     "name": "stderr",
     "output_type": "stream",
     "text": [
      "Feature Sets:   0%|          | 0/5 [00:00<?, ?it/s]"
     ]
    },
    {
     "name": "stdout",
     "output_type": "stream",
     "text": [
      "\n",
      "Processing Feature Set: Feature_Set_1 with features: ['num_candles', 'price_range_pct', 'num_res_hits', 'num_sup_hits', 'num_res_breakouts', 'num_sup_breakouts', 'alternation', 'last_candle_return', 'last_candle_pct_above_support', 'concentration_score_scaled', 'alternation_score_scaled']\n"
     ]
    },
    {
     "name": "stderr",
     "output_type": "stream",
     "text": []
    },
    {
     "name": "stdout",
     "output_type": "stream",
     "text": [
      "  Training Model: Linear Regression\n",
      "    Linear Regression - MSE: 0.0008, R^2: 0.4168\n",
      "  Training Model: Random Forest\n",
      "    Performing Grid Search for Random Forest...\n"
     ]
    },
    {
     "name": "stderr",
     "output_type": "stream",
     "text": []
    },
    {
     "name": "stdout",
     "output_type": "stream",
     "text": [
      "    Best Params for Random Forest: {'max_depth': 10, 'min_samples_split': 5, 'n_estimators': 100}\n",
      "    Random Forest - MSE: 0.0006, R^2: 0.5274\n",
      "  Training Model: XGBoost\n",
      "    Performing Grid Search for XGBoost...\n"
     ]
    },
    {
     "name": "stderr",
     "output_type": "stream",
     "text": [
      "Feature Sets:  20%|██        | 1/5 [00:14<00:58, 14.51s/it]"
     ]
    },
    {
     "name": "stdout",
     "output_type": "stream",
     "text": [
      "    Best Params for XGBoost: {'learning_rate': 0.2, 'max_depth': 5, 'n_estimators': 200, 'subsample': 0.8}\n",
      "    XGBoost - MSE: 0.0007, R^2: 0.4511\n",
      "  Training Model: Lasso Regression\n",
      "    Performing Grid Search for Lasso Regression...\n",
      "    Best Params for Lasso Regression: {'alpha': 0.01}\n",
      "    Lasso Regression - MSE: 0.0010, R^2: 0.2834\n",
      "  Training Model: Ridge Regression\n",
      "    Performing Grid Search for Ridge Regression...\n",
      "    Best Params for Ridge Regression: {'alpha': 10.0}\n",
      "    Ridge Regression - MSE: 0.0008, R^2: 0.4226\n",
      "  Training Model: Elastic Net Regression\n",
      "    Performing Grid Search for Elastic Net Regression...\n",
      "    Best Params for Elastic Net Regression: {'alpha': 0.01, 'l1_ratio': 0.2}\n",
      "    Elastic Net Regression - MSE: 0.0007, R^2: 0.4399\n",
      "\n",
      "Processing Feature Set: Feature_Set_2 with features: ['num_candles', 'price_range_pct', 'num_res_hits', 'num_sup_hits', 'num_res_breakouts', 'num_sup_breakouts', 'alternation', 'last_candle_return', 'last_candle_pct_above_support']\n"
     ]
    },
    {
     "name": "stderr",
     "output_type": "stream",
     "text": []
    },
    {
     "name": "stdout",
     "output_type": "stream",
     "text": [
      "  Training Model: Linear Regression\n",
      "    Linear Regression - MSE: 0.0008, R^2: 0.4151\n",
      "  Training Model: Random Forest\n",
      "    Performing Grid Search for Random Forest...\n"
     ]
    },
    {
     "name": "stderr",
     "output_type": "stream",
     "text": []
    },
    {
     "name": "stdout",
     "output_type": "stream",
     "text": [
      "    Best Params for Random Forest: {'max_depth': 5, 'min_samples_split': 5, 'n_estimators': 100}\n",
      "    Random Forest - MSE: 0.0006, R^2: 0.5663\n",
      "  Training Model: XGBoost\n",
      "    Performing Grid Search for XGBoost...\n"
     ]
    },
    {
     "name": "stderr",
     "output_type": "stream",
     "text": [
      "Feature Sets:  40%|████      | 2/5 [00:18<00:25,  8.48s/it]"
     ]
    },
    {
     "name": "stdout",
     "output_type": "stream",
     "text": [
      "    Best Params for XGBoost: {'learning_rate': 0.2, 'max_depth': 3, 'n_estimators': 100, 'subsample': 0.8}\n",
      "    XGBoost - MSE: 0.0008, R^2: 0.4214\n",
      "  Training Model: Lasso Regression\n",
      "    Performing Grid Search for Lasso Regression...\n",
      "    Best Params for Lasso Regression: {'alpha': 0.01}\n",
      "    Lasso Regression - MSE: 0.0010, R^2: 0.2834\n",
      "  Training Model: Ridge Regression\n",
      "    Performing Grid Search for Ridge Regression...\n",
      "    Best Params for Ridge Regression: {'alpha': 10.0}\n",
      "    Ridge Regression - MSE: 0.0008, R^2: 0.4225\n",
      "  Training Model: Elastic Net Regression\n",
      "    Performing Grid Search for Elastic Net Regression...\n",
      "    Best Params for Elastic Net Regression: {'alpha': 0.01, 'l1_ratio': 0.2}\n",
      "    Elastic Net Regression - MSE: 0.0007, R^2: 0.4399\n",
      "\n",
      "Processing Feature Set: Feature_Set_3 with features: ['num_candles', 'price_range_pct', 'num_res_hits', 'num_sup_hits', 'num_res_breakouts', 'num_sup_breakouts', 'alternation', 'last_candle_return']\n"
     ]
    },
    {
     "name": "stderr",
     "output_type": "stream",
     "text": []
    },
    {
     "name": "stdout",
     "output_type": "stream",
     "text": [
      "  Training Model: Linear Regression\n",
      "    Linear Regression - MSE: 0.0011, R^2: 0.1697\n",
      "  Training Model: Random Forest\n",
      "    Performing Grid Search for Random Forest...\n"
     ]
    },
    {
     "name": "stderr",
     "output_type": "stream",
     "text": []
    },
    {
     "name": "stdout",
     "output_type": "stream",
     "text": [
      "    Best Params for Random Forest: {'max_depth': 5, 'min_samples_split': 5, 'n_estimators': 200}\n",
      "    Random Forest - MSE: 0.0010, R^2: 0.2396\n",
      "  Training Model: XGBoost\n",
      "    Performing Grid Search for XGBoost...\n"
     ]
    },
    {
     "name": "stderr",
     "output_type": "stream",
     "text": [
      "Feature Sets:  60%|██████    | 3/5 [00:22<00:13,  6.53s/it]"
     ]
    },
    {
     "name": "stdout",
     "output_type": "stream",
     "text": [
      "    Best Params for XGBoost: {'learning_rate': 0.1, 'max_depth': 3, 'n_estimators': 100, 'subsample': 0.8}\n",
      "    XGBoost - MSE: 0.0010, R^2: 0.2434\n",
      "  Training Model: Lasso Regression\n",
      "    Performing Grid Search for Lasso Regression...\n",
      "    Best Params for Lasso Regression: {'alpha': 0.01}\n",
      "    Lasso Regression - MSE: 0.0014, R^2: -0.0585\n",
      "  Training Model: Ridge Regression\n",
      "    Performing Grid Search for Ridge Regression...\n",
      "    Best Params for Ridge Regression: {'alpha': 0.01}\n",
      "    Ridge Regression - MSE: 0.0011, R^2: 0.1664\n",
      "  Training Model: Elastic Net Regression\n",
      "    Performing Grid Search for Elastic Net Regression...\n",
      "    Best Params for Elastic Net Regression: {'alpha': 0.01, 'l1_ratio': 0.2}\n",
      "    Elastic Net Regression - MSE: 0.0014, R^2: -0.0252\n",
      "\n",
      "Processing Feature Set: Feature_Set_4 with features: ['num_candles', 'price_range_pct', 'num_res_hits', 'num_sup_hits', 'num_res_breakouts', 'num_sup_breakouts', 'alternation', 'last_candle_return', 'last_candle_pct_above_support', 'concentration_score_scaled', 'alternation_score_scaled', 'pre_sideway_5_bar_change', 'pre_sideway_10_bar_change']\n"
     ]
    },
    {
     "name": "stderr",
     "output_type": "stream",
     "text": []
    },
    {
     "name": "stdout",
     "output_type": "stream",
     "text": [
      "  Training Model: Linear Regression\n",
      "    Linear Regression - MSE: 0.0008, R^2: 0.3886\n",
      "  Training Model: Random Forest\n",
      "    Performing Grid Search for Random Forest...\n"
     ]
    },
    {
     "name": "stderr",
     "output_type": "stream",
     "text": []
    },
    {
     "name": "stdout",
     "output_type": "stream",
     "text": [
      "    Best Params for Random Forest: {'max_depth': 5, 'min_samples_split': 5, 'n_estimators': 200}\n",
      "    Random Forest - MSE: 0.0006, R^2: 0.5818\n",
      "  Training Model: XGBoost\n",
      "    Performing Grid Search for XGBoost...\n"
     ]
    },
    {
     "name": "stderr",
     "output_type": "stream",
     "text": [
      "Feature Sets:  80%|████████  | 4/5 [00:29<00:06,  6.57s/it]"
     ]
    },
    {
     "name": "stdout",
     "output_type": "stream",
     "text": [
      "    Best Params for XGBoost: {'learning_rate': 0.1, 'max_depth': 3, 'n_estimators': 200, 'subsample': 1.0}\n",
      "    XGBoost - MSE: 0.0008, R^2: 0.4016\n",
      "  Training Model: Lasso Regression\n",
      "    Performing Grid Search for Lasso Regression...\n",
      "    Best Params for Lasso Regression: {'alpha': 0.01}\n",
      "    Lasso Regression - MSE: 0.0010, R^2: 0.2834\n",
      "  Training Model: Ridge Regression\n",
      "    Performing Grid Search for Ridge Regression...\n",
      "    Best Params for Ridge Regression: {'alpha': 10.0}\n",
      "    Ridge Regression - MSE: 0.0008, R^2: 0.4237\n",
      "  Training Model: Elastic Net Regression\n",
      "    Performing Grid Search for Elastic Net Regression...\n",
      "    Best Params for Elastic Net Regression: {'alpha': 0.01, 'l1_ratio': 0.2}\n",
      "    Elastic Net Regression - MSE: 0.0007, R^2: 0.4399\n",
      "\n",
      "Processing Feature Set: Feature_Set_5 with features: ['num_candles', 'price_range_pct', 'num_res_hits', 'num_sup_hits', 'num_res_breakouts', 'num_sup_breakouts', 'alternation', 'last_candle_return', 'last_candle_pct_above_support', 'concentration_score_scaled', 'alternation_score_scaled', 'pre_sideway_5_bar_change', 'pre_sideway_10_bar_change', 'pre_sideway_22_bar_change', 'pre_sideway_44_bar_change', 'pre_sideway_132_bar_change']\n"
     ]
    },
    {
     "name": "stderr",
     "output_type": "stream",
     "text": []
    },
    {
     "name": "stdout",
     "output_type": "stream",
     "text": [
      "  Training Model: Linear Regression\n",
      "    Linear Regression - MSE: 0.0008, R^2: 0.3984\n",
      "  Training Model: Random Forest\n",
      "    Performing Grid Search for Random Forest...\n"
     ]
    },
    {
     "name": "stderr",
     "output_type": "stream",
     "text": []
    },
    {
     "name": "stdout",
     "output_type": "stream",
     "text": [
      "    Best Params for Random Forest: {'max_depth': 10, 'min_samples_split': 2, 'n_estimators': 200}\n",
      "    Random Forest - MSE: 0.0006, R^2: 0.5286\n",
      "  Training Model: XGBoost\n",
      "    Performing Grid Search for XGBoost...\n"
     ]
    },
    {
     "name": "stderr",
     "output_type": "stream",
     "text": [
      "Feature Sets: 100%|██████████| 5/5 [00:37<00:00,  7.43s/it]"
     ]
    },
    {
     "name": "stdout",
     "output_type": "stream",
     "text": [
      "    Best Params for XGBoost: {'learning_rate': 0.1, 'max_depth': 3, 'n_estimators': 200, 'subsample': 0.8}\n",
      "    XGBoost - MSE: 0.0008, R^2: 0.4217\n",
      "  Training Model: Lasso Regression\n",
      "    Performing Grid Search for Lasso Regression...\n",
      "    Best Params for Lasso Regression: {'alpha': 0.01}\n",
      "    Lasso Regression - MSE: 0.0010, R^2: 0.2834\n",
      "  Training Model: Ridge Regression\n",
      "    Performing Grid Search for Ridge Regression...\n",
      "    Best Params for Ridge Regression: {'alpha': 10.0}\n",
      "    Ridge Regression - MSE: 0.0007, R^2: 0.4379\n",
      "  Training Model: Elastic Net Regression\n",
      "    Performing Grid Search for Elastic Net Regression...\n",
      "    Best Params for Elastic Net Regression: {'alpha': 0.01, 'l1_ratio': 0.2}\n",
      "    Elastic Net Regression - MSE: 0.0007, R^2: 0.4399\n"
     ]
    },
    {
     "name": "stderr",
     "output_type": "stream",
     "text": [
      "\n"
     ]
    }
   ],
   "source": [
    "from tqdm import tqdm\n",
    "\n",
    "# Initialize a results DataFrame\n",
    "results = []\n",
    "\n",
    "# Wrap the outer loop (feature sets) with tqdm\n",
    "for feature_set_name, feature_set in tqdm(feature_sets.items(), desc=\"Feature Sets\"):\n",
    "    print(f\"\\nProcessing Feature Set: {feature_set_name} with features: {feature_set}\")\n",
    "    \n",
    "    # Select the relevant features for the current feature set\n",
    "    X_train_subset = X_train[feature_set]\n",
    "    X_test_subset = X_test[feature_set]\n",
    "    \n",
    "    # Wrap the inner loop (models) with tqdm\n",
    "    for model_name, model_info in tqdm(models_and_params.items(), desc=f\"Models for {feature_set_name}\", leave=False):\n",
    "        print(f\"  Training Model: {model_name}\")\n",
    "        model = model_info['model']\n",
    "        param_grid = model_info['param_grid']\n",
    "        \n",
    "        # Perform hyperparameter tuning (if applicable)\n",
    "        if param_grid:\n",
    "            print(f\"    Performing Grid Search for {model_name}...\")\n",
    "            grid_search = GridSearchCV(estimator=model, param_grid=param_grid, \n",
    "                                       scoring='neg_mean_squared_error', cv=3, n_jobs=-1)\n",
    "            grid_search.fit(X_train_subset, y_train)\n",
    "            best_model = grid_search.best_estimator_\n",
    "            best_params = grid_search.best_params_\n",
    "            print(f\"    Best Params for {model_name}: {best_params}\")\n",
    "        else:\n",
    "            # For models with no hyperparameter tuning (e.g., Linear Regression)\n",
    "            model.fit(X_train_subset, y_train)\n",
    "            best_model = model\n",
    "            best_params = {}\n",
    "        \n",
    "        # Make predictions and evaluate\n",
    "        y_pred = best_model.predict(X_test_subset)\n",
    "        mse = mean_squared_error(y_test, y_pred)\n",
    "        r2 = r2_score(y_test, y_pred)\n",
    "        print(f\"    {model_name} - MSE: {mse:.4f}, R^2: {r2:.4f}\")\n",
    "        \n",
    "        # Store results\n",
    "        results.append({\n",
    "            'Feature_Set': feature_set_name,\n",
    "            'Model': model_name,\n",
    "            'Best_Params': best_params,\n",
    "            'MSE': mse,\n",
    "            'R^2': r2\n",
    "        })"
   ]
  },
  {
   "cell_type": "code",
   "execution_count": 132,
   "metadata": {},
   "outputs": [
    {
     "data": {
      "text/html": [
       "<div>\n",
       "<style scoped>\n",
       "    .dataframe tbody tr th:only-of-type {\n",
       "        vertical-align: middle;\n",
       "    }\n",
       "\n",
       "    .dataframe tbody tr th {\n",
       "        vertical-align: top;\n",
       "    }\n",
       "\n",
       "    .dataframe thead th {\n",
       "        text-align: right;\n",
       "    }\n",
       "</style>\n",
       "<table border=\"1\" class=\"dataframe\">\n",
       "  <thead>\n",
       "    <tr style=\"text-align: right;\">\n",
       "      <th></th>\n",
       "      <th>Feature_Set</th>\n",
       "      <th>Model</th>\n",
       "      <th>Best_Params</th>\n",
       "      <th>MSE</th>\n",
       "      <th>R^2</th>\n",
       "    </tr>\n",
       "  </thead>\n",
       "  <tbody>\n",
       "    <tr>\n",
       "      <th>0</th>\n",
       "      <td>Feature_Set_1</td>\n",
       "      <td>Linear Regression</td>\n",
       "      <td>{}</td>\n",
       "      <td>0.000776</td>\n",
       "      <td>0.416764</td>\n",
       "    </tr>\n",
       "    <tr>\n",
       "      <th>1</th>\n",
       "      <td>Feature_Set_1</td>\n",
       "      <td>Random Forest</td>\n",
       "      <td>{'max_depth': 10, 'min_samples_split': 5, 'n_e...</td>\n",
       "      <td>0.000629</td>\n",
       "      <td>0.527394</td>\n",
       "    </tr>\n",
       "    <tr>\n",
       "      <th>2</th>\n",
       "      <td>Feature_Set_1</td>\n",
       "      <td>XGBoost</td>\n",
       "      <td>{'learning_rate': 0.2, 'max_depth': 5, 'n_esti...</td>\n",
       "      <td>0.000730</td>\n",
       "      <td>0.451103</td>\n",
       "    </tr>\n",
       "    <tr>\n",
       "      <th>3</th>\n",
       "      <td>Feature_Set_1</td>\n",
       "      <td>Lasso Regression</td>\n",
       "      <td>{'alpha': 0.01}</td>\n",
       "      <td>0.000953</td>\n",
       "      <td>0.283446</td>\n",
       "    </tr>\n",
       "    <tr>\n",
       "      <th>4</th>\n",
       "      <td>Feature_Set_1</td>\n",
       "      <td>Ridge Regression</td>\n",
       "      <td>{'alpha': 10.0}</td>\n",
       "      <td>0.000768</td>\n",
       "      <td>0.422606</td>\n",
       "    </tr>\n",
       "  </tbody>\n",
       "</table>\n",
       "</div>"
      ],
      "text/plain": [
       "     Feature_Set              Model  \\\n",
       "0  Feature_Set_1  Linear Regression   \n",
       "1  Feature_Set_1      Random Forest   \n",
       "2  Feature_Set_1            XGBoost   \n",
       "3  Feature_Set_1   Lasso Regression   \n",
       "4  Feature_Set_1   Ridge Regression   \n",
       "\n",
       "                                         Best_Params       MSE       R^2  \n",
       "0                                                 {}  0.000776  0.416764  \n",
       "1  {'max_depth': 10, 'min_samples_split': 5, 'n_e...  0.000629  0.527394  \n",
       "2  {'learning_rate': 0.2, 'max_depth': 5, 'n_esti...  0.000730  0.451103  \n",
       "3                                    {'alpha': 0.01}  0.000953  0.283446  \n",
       "4                                    {'alpha': 10.0}  0.000768  0.422606  "
      ]
     },
     "execution_count": 132,
     "metadata": {},
     "output_type": "execute_result"
    }
   ],
   "source": [
    "# Convert results to a DataFrame\n",
    "results_df = pd.DataFrame(results)\n",
    "results_df.head()"
   ]
  },
  {
   "cell_type": "code",
   "execution_count": 133,
   "metadata": {},
   "outputs": [
    {
     "name": "stdout",
     "output_type": "stream",
     "text": [
      "\n",
      "Best Model for Each Feature Set:\n",
      "      Feature_Set          Model       R^2       MSE\n",
      "1   Feature_Set_1  Random Forest  0.527394  0.000629\n",
      "7   Feature_Set_2  Random Forest  0.566299  0.000577\n",
      "14  Feature_Set_3        XGBoost  0.243368  0.001006\n",
      "19  Feature_Set_4  Random Forest  0.581758  0.000556\n",
      "25  Feature_Set_5  Random Forest  0.528560  0.000627\n",
      "\n",
      "Overall Best Model:\n",
      "['Random Forest' 'Feature_Set_4'\n",
      " {'max_depth': 5, 'min_samples_split': 5, 'n_estimators': 200}]\n"
     ]
    }
   ],
   "source": [
    "# Display the best model for each feature set based on R^2\n",
    "best_per_feature_set = results_df.loc[results_df.groupby('Feature_Set')['R^2'].idxmax()]\n",
    "print(\"\\nBest Model for Each Feature Set:\")\n",
    "print(best_per_feature_set[['Feature_Set', 'Model', 'R^2', 'MSE']])\n",
    "\n",
    "# Display the overall best model across all feature sets\n",
    "overall_best = results_df.loc[results_df['R^2'].idxmax()]\n",
    "print(\"\\nOverall Best Model:\")\n",
    "print(overall_best[['Model','Feature_Set','Best_Params']].values)"
   ]
  },
  {
   "cell_type": "code",
   "execution_count": 134,
   "metadata": {},
   "outputs": [
    {
     "data": {
      "text/plain": [
       "['num_candles',\n",
       " 'price_range_pct',\n",
       " 'num_res_hits',\n",
       " 'num_sup_hits',\n",
       " 'num_res_breakouts',\n",
       " 'num_sup_breakouts',\n",
       " 'alternation',\n",
       " 'last_candle_return',\n",
       " 'last_candle_pct_above_support',\n",
       " 'concentration_score_scaled',\n",
       " 'alternation_score_scaled',\n",
       " 'pre_sideway_5_bar_change',\n",
       " 'pre_sideway_10_bar_change']"
      ]
     },
     "execution_count": 134,
     "metadata": {},
     "output_type": "execute_result"
    }
   ],
   "source": [
    "best_feature_set"
   ]
  },
  {
   "cell_type": "code",
   "execution_count": 135,
   "metadata": {},
   "outputs": [
    {
     "name": "stdout",
     "output_type": "stream",
     "text": [
      "Features in Best Feature Set: ['num_candles', 'price_range_pct', 'num_res_hits', 'num_sup_hits', 'num_res_breakouts', 'num_sup_breakouts', 'alternation', 'last_candle_return', 'last_candle_pct_above_support', 'concentration_score_scaled', 'alternation_score_scaled', 'pre_sideway_5_bar_change', 'pre_sideway_10_bar_change']\n",
      "Best Random Forest Model Retrained!\n"
     ]
    }
   ],
   "source": [
    "# Extract the best model details\n",
    "best_model_name = overall_best['Model']\n",
    "best_feature_set_name = overall_best['Feature_Set']\n",
    "best_params = overall_best['Best_Params']\n",
    "best_feature_set = feature_sets[best_feature_set_name]\n",
    "\n",
    "#best_feature_set = feature_sets['Feature_Set_5']\n",
    "\n",
    "print(f\"Features in Best Feature Set: {best_feature_set}\")\n",
    "\n",
    "from sklearn.ensemble import RandomForestRegressor\n",
    "\n",
    "# Subset the training data using the best feature set\n",
    "X_train_best = X_train[best_feature_set]\n",
    "\n",
    "# Re-train the best Random Forest model with the saved parameters\n",
    "best_rf_model = RandomForestRegressor(**best_params, random_state=42)\n",
    "best_rf_model.fit(X_train_best, y_train)\n",
    "\n",
    "print(\"Best Random Forest Model Retrained!\")\n"
   ]
  },
  {
   "cell_type": "markdown",
   "metadata": {},
   "source": [
    "# Only can plot feature importance if its RF"
   ]
  },
  {
   "cell_type": "code",
   "execution_count": 136,
   "metadata": {},
   "outputs": [
    {
     "name": "stdout",
     "output_type": "stream",
     "text": [
      "Feature Importances for Best Random Forest Model:\n",
      "                          Feature  Importance\n",
      "8   last_candle_pct_above_support    0.590924\n",
      "1                 price_range_pct    0.223354\n",
      "9      concentration_score_scaled    0.057047\n",
      "11       pre_sideway_5_bar_change    0.029375\n",
      "12      pre_sideway_10_bar_change    0.025106\n",
      "0                     num_candles    0.023974\n",
      "7              last_candle_return    0.017454\n",
      "3                    num_sup_hits    0.014513\n",
      "2                    num_res_hits    0.006258\n",
      "4               num_res_breakouts    0.006069\n",
      "5               num_sup_breakouts    0.003643\n",
      "10       alternation_score_scaled    0.001163\n",
      "6                     alternation    0.001120\n"
     ]
    },
    {
     "data": {
      "image/png": "[encoded data removed]",
      "text/plain": [
       "<Figure size 1000x600 with 1 Axes>"
      ]
     },
     "metadata": {},
     "output_type": "display_data"
    }
   ],
   "source": [
    "import pandas as pd\n",
    "import matplotlib.pyplot as plt\n",
    "\n",
    "# Get feature importance values\n",
    "feature_importances = best_rf_model.feature_importances_\n",
    "\n",
    "# Match them with feature names\n",
    "importance_df = pd.DataFrame({\n",
    "    'Feature': best_feature_set,\n",
    "    'Importance': feature_importances\n",
    "}).sort_values(by='Importance', ascending=False)\n",
    "\n",
    "# Display the importance DataFrame\n",
    "print(\"Feature Importances for Best Random Forest Model:\")\n",
    "print(importance_df)\n",
    "\n",
    "# Plot feature importance\n",
    "plt.figure(figsize=(10, 6))\n",
    "plt.barh(importance_df['Feature'], importance_df['Importance'], color='skyblue')\n",
    "plt.gca().invert_yaxis()  # Invert y-axis to show the most important feature on top\n",
    "plt.title('Feature Importance (Best Random Forest Model)')\n",
    "plt.xlabel('Importance Score')\n",
    "plt.ylabel('Feature')\n",
    "plt.show()"
   ]
  },
  {
   "cell_type": "markdown",
   "metadata": {},
   "source": [
    "#1 run: Original X and Original y\n",
    "\n",
    "Best Model for Each Feature Set:\n",
    "     Feature_Set          Model       R^2       MSE\n",
    "1  Feature_Set_1  Random Forest  0.159093  0.001310\n",
    "4  Feature_Set_2  Random Forest  0.161914  0.001305\n",
    "7  Feature_Set_3  Random Forest  0.168403  0.001295\n",
    "\n",
    "Overall Best Model:\n",
    "Feature_Set    Feature_Set_3\n",
    "Model          Random Forest\n",
    "R^2                 0.168403\n",
    "MSE                 0.001295\n",
    "Name: 7, dtype: object\n"
   ]
  },
  {
   "cell_type": "markdown",
   "metadata": {},
   "source": [
    "#2 run: Modified X and Original y\n",
    "Modified refers to excluding those \"violating\" sideways\n",
    "Best Model for Each Feature Set:\n",
    "     Feature_Set          Model       R^2       MSE\n",
    "1  Feature_Set_1  Random Forest  0.491088  0.000601\n",
    "4  Feature_Set_2  Random Forest  0.472735  0.000622\n",
    "7  Feature_Set_3  Random Forest  0.310111  0.000814\n",
    "\n",
    "Overall Best Model:\n",
    "Feature_Set    Feature_Set_1\n",
    "Model          Random Forest\n",
    "R^2                 0.491088\n",
    "MSE                 0.000601\n",
    "Name: 1, dtype: object"
   ]
  },
  {
   "cell_type": "markdown",
   "metadata": {},
   "source": [
    "#3 run: Modified X (+ exclusion of sideways longer than 220 candles) and Original y\n",
    "Best Model for Each Feature Set:\n",
    "     Feature_Set          Model       R^2       MSE\n",
    "1  Feature_Set_1  Random Forest  0.527394  0.000629\n",
    "4  Feature_Set_2  Random Forest  0.566299  0.000577\n",
    "8  Feature_Set_3        XGBoost  0.243368  0.001006\n",
    "\n",
    "Overall Best Model:\n",
    "Feature_Set    Feature_Set_2\n",
    "Model          Random Forest\n",
    "R^2                 0.566299\n",
    "MSE                 0.000577\n",
    "\n",
    "while Feature set 2 demonstrate the best, but i think we should choose Feature set 1 -> see the feature importance ... it also uses concentration score. so next step is to improve the alternation computation because obviously here it does really use for determining the breakthrough percent change\n",
    "\n",
    "Feature Importances for Best Random Forest Model:\n",
    "                          Feature  Importance\n",
    "8   last_candle_pct_above_support    0.596197\n",
    "1                 price_range_pct    0.237161\n",
    "9      concentration_score_scaled    0.061028\n",
    "0                     num_candles    0.037345\n",
    "7              last_candle_return    0.027842\n",
    "3                    num_sup_hits    0.012969\n",
    "4               num_res_breakouts    0.008286\n",
    "2                    num_res_hits    0.008237\n",
    "5               num_sup_breakouts    0.006758\n",
    "6                     alternation    0.002091\n",
    "10       alternation_score_scaled    0.002086\n",
    "\n"
   ]
  },
  {
   "cell_type": "markdown",
   "metadata": {},
   "source": [
    "#4 run: same as #3 but \n",
    "Best Model for Each Feature Set:\n",
    "      Feature_Set          Model       R^2       MSE\n",
    "1   Feature_Set_1  Random Forest  0.527394  0.000629\n",
    "4   Feature_Set_2  Random Forest  0.566299  0.000577\n",
    "8   Feature_Set_3        XGBoost  0.243368  0.001006\n",
    "10  Feature_Set_4  Random Forest  0.581758  0.000556\n",
    "\n",
    "Overall Best Model:\n",
    "['Random Forest' 'Feature_Set_4'\n",
    " {'max_depth': 5, 'min_samples_split': 5, 'n_estimators': 200}]"
   ]
  },
  {
   "cell_type": "markdown",
   "metadata": {},
   "source": []
  }
 ],
 "metadata": {
  "kernelspec": {
   "display_name": "smumitb",
   "language": "python",
   "name": "python3"
  },
  "language_info": {
   "codemirror_mode": {
    "name": "ipython",
    "version": 3
   },
   "file_extension": ".py",
   "mimetype": "text/x-python",
   "name": "python",
   "nbconvert_exporter": "python",
   "pygments_lexer": "ipython3",
   "version": "3.10.15"
  }
 },
 "nbformat": 4,
 "nbformat_minor": 2
}
