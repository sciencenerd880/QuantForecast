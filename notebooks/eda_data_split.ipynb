{
 "cells": [
  {
   "cell_type": "code",
   "execution_count": 57,
   "metadata": {},
   "outputs": [],
   "source": [
    "import pandas as pd\n",
    "import matplotlib.pyplot as plt"
   ]
  },
  {
   "cell_type": "code",
   "execution_count": null,
   "metadata": {},
   "outputs": [
    {
     "data": {
      "text/html": [
       "<div>\n",
       "<style scoped>\n",
       "    .dataframe tbody tr th:only-of-type {\n",
       "        vertical-align: middle;\n",
       "    }\n",
       "\n",
       "    .dataframe tbody tr th {\n",
       "        vertical-align: top;\n",
       "    }\n",
       "\n",
       "    .dataframe thead th {\n",
       "        text-align: right;\n",
       "    }\n",
       "</style>\n",
       "<table border=\"1\" class=\"dataframe\">\n",
       "  <thead>\n",
       "    <tr style=\"text-align: right;\">\n",
       "      <th></th>\n",
       "      <th>SYMBOL</th>\n",
       "      <th>INTERVAL</th>\n",
       "      <th>DATA_DURATION</th>\n",
       "      <th>DATA_DURATION_UNITS</th>\n",
       "      <th>MIN_PRICE_RANGE_PCT</th>\n",
       "      <th>MAX_PRICE_RANGE_PCT</th>\n",
       "      <th>MIN_CANDLE_COUNT</th>\n",
       "      <th>MAX_CANDLE_COUNT</th>\n",
       "      <th>WINDOW_START_STRIDE</th>\n",
       "      <th>WINDOW_END_STRIDE</th>\n",
       "      <th>...</th>\n",
       "      <th>pre_sideway_132_bar_change</th>\n",
       "      <th>post_sideway_5_bar_change</th>\n",
       "      <th>post_sideway_10_bar_change</th>\n",
       "      <th>post_sideway_22_bar_change</th>\n",
       "      <th>post_sideway_44_bar_change</th>\n",
       "      <th>post_sideway_132_bar_change</th>\n",
       "      <th>concentration_score_scaled</th>\n",
       "      <th>alternation_score_scaled</th>\n",
       "      <th>max_alternation</th>\n",
       "      <th>sideway_score</th>\n",
       "    </tr>\n",
       "  </thead>\n",
       "  <tbody>\n",
       "    <tr>\n",
       "      <th>0</th>\n",
       "      <td>AMZN</td>\n",
       "      <td>1d</td>\n",
       "      <td>20.0</td>\n",
       "      <td>years</td>\n",
       "      <td>0.02</td>\n",
       "      <td>1.0</td>\n",
       "      <td>20.0</td>\n",
       "      <td>250.0</td>\n",
       "      <td>2.0</td>\n",
       "      <td>5.0</td>\n",
       "      <td>...</td>\n",
       "      <td>0.341039</td>\n",
       "      <td>0.025587</td>\n",
       "      <td>0.007402</td>\n",
       "      <td>0.032445</td>\n",
       "      <td>0.031144</td>\n",
       "      <td>0.559273</td>\n",
       "      <td>0.035401</td>\n",
       "      <td>1.0</td>\n",
       "      <td>8.0</td>\n",
       "      <td>0.710620</td>\n",
       "    </tr>\n",
       "    <tr>\n",
       "      <th>1</th>\n",
       "      <td>SO</td>\n",
       "      <td>1d</td>\n",
       "      <td>20.0</td>\n",
       "      <td>years</td>\n",
       "      <td>0.02</td>\n",
       "      <td>1.0</td>\n",
       "      <td>20.0</td>\n",
       "      <td>250.0</td>\n",
       "      <td>2.0</td>\n",
       "      <td>5.0</td>\n",
       "      <td>...</td>\n",
       "      <td>-0.224869</td>\n",
       "      <td>-0.012064</td>\n",
       "      <td>-0.023374</td>\n",
       "      <td>-0.004524</td>\n",
       "      <td>0.104618</td>\n",
       "      <td>0.069180</td>\n",
       "      <td>0.845818</td>\n",
       "      <td>0.6</td>\n",
       "      <td>8.0</td>\n",
       "      <td>0.673745</td>\n",
       "    </tr>\n",
       "    <tr>\n",
       "      <th>2</th>\n",
       "      <td>COP</td>\n",
       "      <td>1d</td>\n",
       "      <td>20.0</td>\n",
       "      <td>years</td>\n",
       "      <td>0.02</td>\n",
       "      <td>1.0</td>\n",
       "      <td>20.0</td>\n",
       "      <td>250.0</td>\n",
       "      <td>2.0</td>\n",
       "      <td>5.0</td>\n",
       "      <td>...</td>\n",
       "      <td>0.371418</td>\n",
       "      <td>0.003574</td>\n",
       "      <td>-0.010586</td>\n",
       "      <td>0.000962</td>\n",
       "      <td>0.079049</td>\n",
       "      <td>0.414765</td>\n",
       "      <td>0.776190</td>\n",
       "      <td>0.6</td>\n",
       "      <td>8.0</td>\n",
       "      <td>0.652857</td>\n",
       "    </tr>\n",
       "    <tr>\n",
       "      <th>3</th>\n",
       "      <td>PEP</td>\n",
       "      <td>1d</td>\n",
       "      <td>20.0</td>\n",
       "      <td>years</td>\n",
       "      <td>0.02</td>\n",
       "      <td>1.0</td>\n",
       "      <td>20.0</td>\n",
       "      <td>250.0</td>\n",
       "      <td>2.0</td>\n",
       "      <td>5.0</td>\n",
       "      <td>...</td>\n",
       "      <td>0.073129</td>\n",
       "      <td>-0.024852</td>\n",
       "      <td>-0.018146</td>\n",
       "      <td>-0.022781</td>\n",
       "      <td>-0.018935</td>\n",
       "      <td>0.046351</td>\n",
       "      <td>0.192030</td>\n",
       "      <td>0.8</td>\n",
       "      <td>8.0</td>\n",
       "      <td>0.617609</td>\n",
       "    </tr>\n",
       "    <tr>\n",
       "      <th>4</th>\n",
       "      <td>GOOGL</td>\n",
       "      <td>1d</td>\n",
       "      <td>20.0</td>\n",
       "      <td>years</td>\n",
       "      <td>0.02</td>\n",
       "      <td>1.0</td>\n",
       "      <td>20.0</td>\n",
       "      <td>250.0</td>\n",
       "      <td>2.0</td>\n",
       "      <td>5.0</td>\n",
       "      <td>...</td>\n",
       "      <td>-0.195103</td>\n",
       "      <td>0.014346</td>\n",
       "      <td>0.017010</td>\n",
       "      <td>-0.001906</td>\n",
       "      <td>-0.007418</td>\n",
       "      <td>-0.224517</td>\n",
       "      <td>0.117197</td>\n",
       "      <td>0.8</td>\n",
       "      <td>8.0</td>\n",
       "      <td>0.595159</td>\n",
       "    </tr>\n",
       "  </tbody>\n",
       "</table>\n",
       "<p>5 rows × 64 columns</p>\n",
       "</div>"
      ],
      "text/plain": [
       "  SYMBOL INTERVAL  DATA_DURATION DATA_DURATION_UNITS  MIN_PRICE_RANGE_PCT  \\\n",
       "0   AMZN       1d           20.0               years                 0.02   \n",
       "1     SO       1d           20.0               years                 0.02   \n",
       "2    COP       1d           20.0               years                 0.02   \n",
       "3    PEP       1d           20.0               years                 0.02   \n",
       "4  GOOGL       1d           20.0               years                 0.02   \n",
       "\n",
       "   MAX_PRICE_RANGE_PCT  MIN_CANDLE_COUNT  MAX_CANDLE_COUNT  \\\n",
       "0                  1.0              20.0             250.0   \n",
       "1                  1.0              20.0             250.0   \n",
       "2                  1.0              20.0             250.0   \n",
       "3                  1.0              20.0             250.0   \n",
       "4                  1.0              20.0             250.0   \n",
       "\n",
       "   WINDOW_START_STRIDE  WINDOW_END_STRIDE  ...  pre_sideway_132_bar_change  \\\n",
       "0                  2.0                5.0  ...                    0.341039   \n",
       "1                  2.0                5.0  ...                   -0.224869   \n",
       "2                  2.0                5.0  ...                    0.371418   \n",
       "3                  2.0                5.0  ...                    0.073129   \n",
       "4                  2.0                5.0  ...                   -0.195103   \n",
       "\n",
       "   post_sideway_5_bar_change  post_sideway_10_bar_change  \\\n",
       "0                   0.025587                    0.007402   \n",
       "1                  -0.012064                   -0.023374   \n",
       "2                   0.003574                   -0.010586   \n",
       "3                  -0.024852                   -0.018146   \n",
       "4                   0.014346                    0.017010   \n",
       "\n",
       "   post_sideway_22_bar_change  post_sideway_44_bar_change  \\\n",
       "0                    0.032445                    0.031144   \n",
       "1                   -0.004524                    0.104618   \n",
       "2                    0.000962                    0.079049   \n",
       "3                   -0.022781                   -0.018935   \n",
       "4                   -0.001906                   -0.007418   \n",
       "\n",
       "   post_sideway_132_bar_change  concentration_score_scaled  \\\n",
       "0                     0.559273                    0.035401   \n",
       "1                     0.069180                    0.845818   \n",
       "2                     0.414765                    0.776190   \n",
       "3                     0.046351                    0.192030   \n",
       "4                    -0.224517                    0.117197   \n",
       "\n",
       "   alternation_score_scaled  max_alternation  sideway_score  \n",
       "0                       1.0              8.0       0.710620  \n",
       "1                       0.6              8.0       0.673745  \n",
       "2                       0.6              8.0       0.652857  \n",
       "3                       0.8              8.0       0.617609  \n",
       "4                       0.8              8.0       0.595159  \n",
       "\n",
       "[5 rows x 64 columns]"
      ]
     },
     "execution_count": 58,
     "metadata": {},
     "output_type": "execute_result"
    }
   ],
   "source": [
    "# read csv file\n",
    "df = pd.read_csv('../quantsideways_data/all_detected_sideways_evaluated.csv')\n",
    "df.head()"
   ]
  },
  {
   "cell_type": "code",
   "execution_count": 59,
   "metadata": {},
   "outputs": [
    {
     "data": {
      "text/plain": [
       "Index(['SYMBOL', 'INTERVAL', 'DATA_DURATION', 'DATA_DURATION_UNITS',\n",
       "       'MIN_PRICE_RANGE_PCT', 'MAX_PRICE_RANGE_PCT', 'MIN_CANDLE_COUNT',\n",
       "       'MAX_CANDLE_COUNT', 'WINDOW_START_STRIDE', 'WINDOW_END_STRIDE',\n",
       "       'RESISTANCE_AREA_PCT', 'SUPPORT_AREA_PCT', 'MIN_HIT_RESISTANCE_COUNT',\n",
       "       'MIN_HIT_SUPPORT_COUNT', 'CONSIDER_PIN', 'MIN_ALTERNATION',\n",
       "       'MIN_LAST_CANDLE_RETURN_LIVE', 'LAST_CANDLE_MIN_PCT_ABOVE_SUPPORT_LIVE',\n",
       "       'NUM_CANDLES_PAUSE', 'PCT_CANDLES_PAUSE', 'MIN_BREAKOUT_PCT',\n",
       "       'USING_RATIO', 'MIN_OUTSIDE_CANDLE_COUNT',\n",
       "       'OUTSIDE_TO_INSIDE_CANDLE_RATIO', 'DESIRED_BINS',\n",
       "       'PEAK_TROUGH_LOOKUP_WIDTH', 'UNIQUE_HIT_VALUES',\n",
       "       'PRICE_RANGE_TOLERANCE', 'ABSOLUTE_NUM_CANDLES_DIFFERENCE',\n",
       "       'PCT_CANDLES_DIFFERENCE', 'NUM_CANDLES_DIFFERENCE', 'resistance_line',\n",
       "       'support_line', 'start_date', 'end_date', 'num_candles',\n",
       "       'price_range_pct', 'num_res_hits', 'num_sup_hits', 'num_res_breakouts',\n",
       "       'num_sup_breakouts', 'alternation', 'last_candle_return',\n",
       "       'last_candle_pct_above_support', 'resistance_hits', 'support_hits',\n",
       "       'breakout_type', 'concentration_score',\n",
       "       'customer_pre_sideway_bar_change', 'customer_post_sideway_bar_change',\n",
       "       'pre_sideway_5_bar_change', 'pre_sideway_10_bar_change',\n",
       "       'pre_sideway_22_bar_change', 'pre_sideway_44_bar_change',\n",
       "       'pre_sideway_132_bar_change', 'post_sideway_5_bar_change',\n",
       "       'post_sideway_10_bar_change', 'post_sideway_22_bar_change',\n",
       "       'post_sideway_44_bar_change', 'post_sideway_132_bar_change',\n",
       "       'concentration_score_scaled', 'alternation_score_scaled',\n",
       "       'max_alternation', 'sideway_score'],\n",
       "      dtype='object')"
      ]
     },
     "execution_count": 59,
     "metadata": {},
     "output_type": "execute_result"
    }
   ],
   "source": [
    "df.columns"
   ]
  },
  {
   "cell_type": "code",
   "execution_count": 60,
   "metadata": {},
   "outputs": [
    {
     "name": "stdout",
     "output_type": "stream",
     "text": [
      "<class 'pandas.core.frame.DataFrame'>\n",
      "RangeIndex: 857 entries, 0 to 856\n",
      "Data columns (total 64 columns):\n",
      " #   Column                                  Non-Null Count  Dtype  \n",
      "---  ------                                  --------------  -----  \n",
      " 0   SYMBOL                                  857 non-null    object \n",
      " 1   INTERVAL                                857 non-null    object \n",
      " 2   DATA_DURATION                           857 non-null    float64\n",
      " 3   DATA_DURATION_UNITS                     857 non-null    object \n",
      " 4   MIN_PRICE_RANGE_PCT                     857 non-null    float64\n",
      " 5   MAX_PRICE_RANGE_PCT                     857 non-null    float64\n",
      " 6   MIN_CANDLE_COUNT                        857 non-null    float64\n",
      " 7   MAX_CANDLE_COUNT                        857 non-null    float64\n",
      " 8   WINDOW_START_STRIDE                     857 non-null    float64\n",
      " 9   WINDOW_END_STRIDE                       857 non-null    float64\n",
      " 10  RESISTANCE_AREA_PCT                     857 non-null    float64\n",
      " 11  SUPPORT_AREA_PCT                        857 non-null    float64\n",
      " 12  MIN_HIT_RESISTANCE_COUNT                857 non-null    float64\n",
      " 13  MIN_HIT_SUPPORT_COUNT                   857 non-null    float64\n",
      " 14  CONSIDER_PIN                            857 non-null    float64\n",
      " 15  MIN_ALTERNATION                         857 non-null    float64\n",
      " 16  MIN_LAST_CANDLE_RETURN_LIVE             857 non-null    float64\n",
      " 17  LAST_CANDLE_MIN_PCT_ABOVE_SUPPORT_LIVE  857 non-null    float64\n",
      " 18  NUM_CANDLES_PAUSE                       857 non-null    float64\n",
      " 19  PCT_CANDLES_PAUSE                       857 non-null    float64\n",
      " 20  MIN_BREAKOUT_PCT                        857 non-null    float64\n",
      " 21  USING_RATIO                             857 non-null    float64\n",
      " 22  MIN_OUTSIDE_CANDLE_COUNT                857 non-null    float64\n",
      " 23  OUTSIDE_TO_INSIDE_CANDLE_RATIO          857 non-null    float64\n",
      " 24  DESIRED_BINS                            857 non-null    float64\n",
      " 25  PEAK_TROUGH_LOOKUP_WIDTH                857 non-null    float64\n",
      " 26  UNIQUE_HIT_VALUES                       857 non-null    float64\n",
      " 27  PRICE_RANGE_TOLERANCE                   857 non-null    float64\n",
      " 28  ABSOLUTE_NUM_CANDLES_DIFFERENCE         857 non-null    float64\n",
      " 29  PCT_CANDLES_DIFFERENCE                  857 non-null    float64\n",
      " 30  NUM_CANDLES_DIFFERENCE                  857 non-null    float64\n",
      " 31  resistance_line                         857 non-null    float64\n",
      " 32  support_line                            857 non-null    float64\n",
      " 33  start_date                              857 non-null    object \n",
      " 34  end_date                                857 non-null    object \n",
      " 35  num_candles                             857 non-null    float64\n",
      " 36  price_range_pct                         857 non-null    float64\n",
      " 37  num_res_hits                            857 non-null    float64\n",
      " 38  num_sup_hits                            857 non-null    float64\n",
      " 39  num_res_breakouts                       857 non-null    float64\n",
      " 40  num_sup_breakouts                       857 non-null    float64\n",
      " 41  alternation                             857 non-null    float64\n",
      " 42  last_candle_return                      857 non-null    float64\n",
      " 43  last_candle_pct_above_support           857 non-null    float64\n",
      " 44  resistance_hits                         857 non-null    object \n",
      " 45  support_hits                            857 non-null    object \n",
      " 46  breakout_type                           857 non-null    object \n",
      " 47  concentration_score                     857 non-null    float64\n",
      " 48  customer_pre_sideway_bar_change         857 non-null    float64\n",
      " 49  customer_post_sideway_bar_change        854 non-null    float64\n",
      " 50  pre_sideway_5_bar_change                857 non-null    float64\n",
      " 51  pre_sideway_10_bar_change               857 non-null    float64\n",
      " 52  pre_sideway_22_bar_change               851 non-null    float64\n",
      " 53  pre_sideway_44_bar_change               848 non-null    float64\n",
      " 54  pre_sideway_132_bar_change              834 non-null    float64\n",
      " 55  post_sideway_5_bar_change               857 non-null    float64\n",
      " 56  post_sideway_10_bar_change              857 non-null    float64\n",
      " 57  post_sideway_22_bar_change              857 non-null    float64\n",
      " 58  post_sideway_44_bar_change              857 non-null    float64\n",
      " 59  post_sideway_132_bar_change             850 non-null    float64\n",
      " 60  concentration_score_scaled              857 non-null    float64\n",
      " 61  alternation_score_scaled                857 non-null    float64\n",
      " 62  max_alternation                         857 non-null    float64\n",
      " 63  sideway_score                           857 non-null    float64\n",
      "dtypes: float64(56), object(8)\n",
      "memory usage: 428.6+ KB\n"
     ]
    }
   ],
   "source": [
    "df.info()"
   ]
  },
  {
   "cell_type": "code",
   "execution_count": 61,
   "metadata": {},
   "outputs": [
    {
     "data": {
      "text/plain": [
       "SYMBOL                         0\n",
       "INTERVAL                       0\n",
       "DATA_DURATION                  0\n",
       "DATA_DURATION_UNITS            0\n",
       "MIN_PRICE_RANGE_PCT            0\n",
       "                              ..\n",
       "post_sideway_132_bar_change    7\n",
       "concentration_score_scaled     0\n",
       "alternation_score_scaled       0\n",
       "max_alternation                0\n",
       "sideway_score                  0\n",
       "Length: 64, dtype: int64"
      ]
     },
     "execution_count": 61,
     "metadata": {},
     "output_type": "execute_result"
    }
   ],
   "source": [
    "df.isnull().sum()"
   ]
  },
  {
   "cell_type": "code",
   "execution_count": 62,
   "metadata": {},
   "outputs": [
    {
     "data": {
      "text/html": [
       "<div>\n",
       "<style scoped>\n",
       "    .dataframe tbody tr th:only-of-type {\n",
       "        vertical-align: middle;\n",
       "    }\n",
       "\n",
       "    .dataframe tbody tr th {\n",
       "        vertical-align: top;\n",
       "    }\n",
       "\n",
       "    .dataframe thead th {\n",
       "        text-align: right;\n",
       "    }\n",
       "</style>\n",
       "<table border=\"1\" class=\"dataframe\">\n",
       "  <thead>\n",
       "    <tr style=\"text-align: right;\">\n",
       "      <th></th>\n",
       "      <th>DATA_DURATION</th>\n",
       "      <th>MIN_PRICE_RANGE_PCT</th>\n",
       "      <th>MAX_PRICE_RANGE_PCT</th>\n",
       "      <th>MIN_CANDLE_COUNT</th>\n",
       "      <th>MAX_CANDLE_COUNT</th>\n",
       "      <th>WINDOW_START_STRIDE</th>\n",
       "      <th>WINDOW_END_STRIDE</th>\n",
       "      <th>RESISTANCE_AREA_PCT</th>\n",
       "      <th>SUPPORT_AREA_PCT</th>\n",
       "      <th>MIN_HIT_RESISTANCE_COUNT</th>\n",
       "      <th>...</th>\n",
       "      <th>pre_sideway_132_bar_change</th>\n",
       "      <th>post_sideway_5_bar_change</th>\n",
       "      <th>post_sideway_10_bar_change</th>\n",
       "      <th>post_sideway_22_bar_change</th>\n",
       "      <th>post_sideway_44_bar_change</th>\n",
       "      <th>post_sideway_132_bar_change</th>\n",
       "      <th>concentration_score_scaled</th>\n",
       "      <th>alternation_score_scaled</th>\n",
       "      <th>max_alternation</th>\n",
       "      <th>sideway_score</th>\n",
       "    </tr>\n",
       "  </thead>\n",
       "  <tbody>\n",
       "    <tr>\n",
       "      <th>count</th>\n",
       "      <td>857.0</td>\n",
       "      <td>857.00</td>\n",
       "      <td>857.0</td>\n",
       "      <td>857.0</td>\n",
       "      <td>857.0</td>\n",
       "      <td>857.0</td>\n",
       "      <td>857.0</td>\n",
       "      <td>8.570000e+02</td>\n",
       "      <td>8.570000e+02</td>\n",
       "      <td>857.0</td>\n",
       "      <td>...</td>\n",
       "      <td>834.000000</td>\n",
       "      <td>857.000000</td>\n",
       "      <td>857.000000</td>\n",
       "      <td>857.000000</td>\n",
       "      <td>857.000000</td>\n",
       "      <td>850.000000</td>\n",
       "      <td>857.000000</td>\n",
       "      <td>857.000000</td>\n",
       "      <td>857.0</td>\n",
       "      <td>857.000000</td>\n",
       "    </tr>\n",
       "    <tr>\n",
       "      <th>mean</th>\n",
       "      <td>20.0</td>\n",
       "      <td>0.02</td>\n",
       "      <td>1.0</td>\n",
       "      <td>20.0</td>\n",
       "      <td>250.0</td>\n",
       "      <td>2.0</td>\n",
       "      <td>5.0</td>\n",
       "      <td>5.000000e-02</td>\n",
       "      <td>5.000000e-02</td>\n",
       "      <td>2.0</td>\n",
       "      <td>...</td>\n",
       "      <td>0.099001</td>\n",
       "      <td>0.005738</td>\n",
       "      <td>0.006717</td>\n",
       "      <td>0.012167</td>\n",
       "      <td>0.021222</td>\n",
       "      <td>0.055035</td>\n",
       "      <td>0.111634</td>\n",
       "      <td>0.119487</td>\n",
       "      <td>8.0</td>\n",
       "      <td>0.117131</td>\n",
       "    </tr>\n",
       "    <tr>\n",
       "      <th>std</th>\n",
       "      <td>0.0</td>\n",
       "      <td>0.00</td>\n",
       "      <td>0.0</td>\n",
       "      <td>0.0</td>\n",
       "      <td>0.0</td>\n",
       "      <td>0.0</td>\n",
       "      <td>0.0</td>\n",
       "      <td>6.942946e-18</td>\n",
       "      <td>6.942946e-18</td>\n",
       "      <td>0.0</td>\n",
       "      <td>...</td>\n",
       "      <td>0.216499</td>\n",
       "      <td>0.039947</td>\n",
       "      <td>0.051139</td>\n",
       "      <td>0.067159</td>\n",
       "      <td>0.085401</td>\n",
       "      <td>0.154661</td>\n",
       "      <td>0.102850</td>\n",
       "      <td>0.171594</td>\n",
       "      <td>0.0</td>\n",
       "      <td>0.120170</td>\n",
       "    </tr>\n",
       "    <tr>\n",
       "      <th>min</th>\n",
       "      <td>20.0</td>\n",
       "      <td>0.02</td>\n",
       "      <td>1.0</td>\n",
       "      <td>20.0</td>\n",
       "      <td>250.0</td>\n",
       "      <td>2.0</td>\n",
       "      <td>5.0</td>\n",
       "      <td>5.000000e-02</td>\n",
       "      <td>5.000000e-02</td>\n",
       "      <td>2.0</td>\n",
       "      <td>...</td>\n",
       "      <td>-0.668807</td>\n",
       "      <td>-0.191332</td>\n",
       "      <td>-0.253713</td>\n",
       "      <td>-0.339893</td>\n",
       "      <td>-0.492449</td>\n",
       "      <td>-0.350069</td>\n",
       "      <td>0.000000</td>\n",
       "      <td>0.000000</td>\n",
       "      <td>8.0</td>\n",
       "      <td>0.001148</td>\n",
       "    </tr>\n",
       "    <tr>\n",
       "      <th>25%</th>\n",
       "      <td>20.0</td>\n",
       "      <td>0.02</td>\n",
       "      <td>1.0</td>\n",
       "      <td>20.0</td>\n",
       "      <td>250.0</td>\n",
       "      <td>2.0</td>\n",
       "      <td>5.0</td>\n",
       "      <td>5.000000e-02</td>\n",
       "      <td>5.000000e-02</td>\n",
       "      <td>2.0</td>\n",
       "      <td>...</td>\n",
       "      <td>-0.005772</td>\n",
       "      <td>-0.013604</td>\n",
       "      <td>-0.017745</td>\n",
       "      <td>-0.017995</td>\n",
       "      <td>-0.021674</td>\n",
       "      <td>-0.032122</td>\n",
       "      <td>0.050728</td>\n",
       "      <td>0.000000</td>\n",
       "      <td>8.0</td>\n",
       "      <td>0.025325</td>\n",
       "    </tr>\n",
       "    <tr>\n",
       "      <th>50%</th>\n",
       "      <td>20.0</td>\n",
       "      <td>0.02</td>\n",
       "      <td>1.0</td>\n",
       "      <td>20.0</td>\n",
       "      <td>250.0</td>\n",
       "      <td>2.0</td>\n",
       "      <td>5.0</td>\n",
       "      <td>5.000000e-02</td>\n",
       "      <td>5.000000e-02</td>\n",
       "      <td>2.0</td>\n",
       "      <td>...</td>\n",
       "      <td>0.090264</td>\n",
       "      <td>0.007059</td>\n",
       "      <td>0.011031</td>\n",
       "      <td>0.012265</td>\n",
       "      <td>0.021542</td>\n",
       "      <td>0.051443</td>\n",
       "      <td>0.083583</td>\n",
       "      <td>0.000000</td>\n",
       "      <td>8.0</td>\n",
       "      <td>0.062061</td>\n",
       "    </tr>\n",
       "    <tr>\n",
       "      <th>75%</th>\n",
       "      <td>20.0</td>\n",
       "      <td>0.02</td>\n",
       "      <td>1.0</td>\n",
       "      <td>20.0</td>\n",
       "      <td>250.0</td>\n",
       "      <td>2.0</td>\n",
       "      <td>5.0</td>\n",
       "      <td>5.000000e-02</td>\n",
       "      <td>5.000000e-02</td>\n",
       "      <td>2.0</td>\n",
       "      <td>...</td>\n",
       "      <td>0.184211</td>\n",
       "      <td>0.025578</td>\n",
       "      <td>0.032193</td>\n",
       "      <td>0.047185</td>\n",
       "      <td>0.064800</td>\n",
       "      <td>0.118336</td>\n",
       "      <td>0.142201</td>\n",
       "      <td>0.200000</td>\n",
       "      <td>8.0</td>\n",
       "      <td>0.165593</td>\n",
       "    </tr>\n",
       "    <tr>\n",
       "      <th>max</th>\n",
       "      <td>20.0</td>\n",
       "      <td>0.02</td>\n",
       "      <td>1.0</td>\n",
       "      <td>20.0</td>\n",
       "      <td>250.0</td>\n",
       "      <td>2.0</td>\n",
       "      <td>5.0</td>\n",
       "      <td>5.000000e-02</td>\n",
       "      <td>5.000000e-02</td>\n",
       "      <td>2.0</td>\n",
       "      <td>...</td>\n",
       "      <td>1.775259</td>\n",
       "      <td>0.170381</td>\n",
       "      <td>0.199044</td>\n",
       "      <td>0.304625</td>\n",
       "      <td>0.397442</td>\n",
       "      <td>1.835933</td>\n",
       "      <td>1.000000</td>\n",
       "      <td>1.000000</td>\n",
       "      <td>8.0</td>\n",
       "      <td>0.710620</td>\n",
       "    </tr>\n",
       "  </tbody>\n",
       "</table>\n",
       "<p>8 rows × 56 columns</p>\n",
       "</div>"
      ],
      "text/plain": [
       "       DATA_DURATION  MIN_PRICE_RANGE_PCT  MAX_PRICE_RANGE_PCT  \\\n",
       "count          857.0               857.00                857.0   \n",
       "mean            20.0                 0.02                  1.0   \n",
       "std              0.0                 0.00                  0.0   \n",
       "min             20.0                 0.02                  1.0   \n",
       "25%             20.0                 0.02                  1.0   \n",
       "50%             20.0                 0.02                  1.0   \n",
       "75%             20.0                 0.02                  1.0   \n",
       "max             20.0                 0.02                  1.0   \n",
       "\n",
       "       MIN_CANDLE_COUNT  MAX_CANDLE_COUNT  WINDOW_START_STRIDE  \\\n",
       "count             857.0             857.0                857.0   \n",
       "mean               20.0             250.0                  2.0   \n",
       "std                 0.0               0.0                  0.0   \n",
       "min                20.0             250.0                  2.0   \n",
       "25%                20.0             250.0                  2.0   \n",
       "50%                20.0             250.0                  2.0   \n",
       "75%                20.0             250.0                  2.0   \n",
       "max                20.0             250.0                  2.0   \n",
       "\n",
       "       WINDOW_END_STRIDE  RESISTANCE_AREA_PCT  SUPPORT_AREA_PCT  \\\n",
       "count              857.0         8.570000e+02      8.570000e+02   \n",
       "mean                 5.0         5.000000e-02      5.000000e-02   \n",
       "std                  0.0         6.942946e-18      6.942946e-18   \n",
       "min                  5.0         5.000000e-02      5.000000e-02   \n",
       "25%                  5.0         5.000000e-02      5.000000e-02   \n",
       "50%                  5.0         5.000000e-02      5.000000e-02   \n",
       "75%                  5.0         5.000000e-02      5.000000e-02   \n",
       "max                  5.0         5.000000e-02      5.000000e-02   \n",
       "\n",
       "       MIN_HIT_RESISTANCE_COUNT  ...  pre_sideway_132_bar_change  \\\n",
       "count                     857.0  ...                  834.000000   \n",
       "mean                        2.0  ...                    0.099001   \n",
       "std                         0.0  ...                    0.216499   \n",
       "min                         2.0  ...                   -0.668807   \n",
       "25%                         2.0  ...                   -0.005772   \n",
       "50%                         2.0  ...                    0.090264   \n",
       "75%                         2.0  ...                    0.184211   \n",
       "max                         2.0  ...                    1.775259   \n",
       "\n",
       "       post_sideway_5_bar_change  post_sideway_10_bar_change  \\\n",
       "count                 857.000000                  857.000000   \n",
       "mean                    0.005738                    0.006717   \n",
       "std                     0.039947                    0.051139   \n",
       "min                    -0.191332                   -0.253713   \n",
       "25%                    -0.013604                   -0.017745   \n",
       "50%                     0.007059                    0.011031   \n",
       "75%                     0.025578                    0.032193   \n",
       "max                     0.170381                    0.199044   \n",
       "\n",
       "       post_sideway_22_bar_change  post_sideway_44_bar_change  \\\n",
       "count                  857.000000                  857.000000   \n",
       "mean                     0.012167                    0.021222   \n",
       "std                      0.067159                    0.085401   \n",
       "min                     -0.339893                   -0.492449   \n",
       "25%                     -0.017995                   -0.021674   \n",
       "50%                      0.012265                    0.021542   \n",
       "75%                      0.047185                    0.064800   \n",
       "max                      0.304625                    0.397442   \n",
       "\n",
       "       post_sideway_132_bar_change  concentration_score_scaled  \\\n",
       "count                   850.000000                  857.000000   \n",
       "mean                      0.055035                    0.111634   \n",
       "std                       0.154661                    0.102850   \n",
       "min                      -0.350069                    0.000000   \n",
       "25%                      -0.032122                    0.050728   \n",
       "50%                       0.051443                    0.083583   \n",
       "75%                       0.118336                    0.142201   \n",
       "max                       1.835933                    1.000000   \n",
       "\n",
       "       alternation_score_scaled  max_alternation  sideway_score  \n",
       "count                857.000000            857.0     857.000000  \n",
       "mean                   0.119487              8.0       0.117131  \n",
       "std                    0.171594              0.0       0.120170  \n",
       "min                    0.000000              8.0       0.001148  \n",
       "25%                    0.000000              8.0       0.025325  \n",
       "50%                    0.000000              8.0       0.062061  \n",
       "75%                    0.200000              8.0       0.165593  \n",
       "max                    1.000000              8.0       0.710620  \n",
       "\n",
       "[8 rows x 56 columns]"
      ]
     },
     "execution_count": 62,
     "metadata": {},
     "output_type": "execute_result"
    }
   ],
   "source": [
    "df.describe()"
   ]
  },
  {
   "cell_type": "code",
   "execution_count": 63,
   "metadata": {},
   "outputs": [
    {
     "name": "stdout",
     "output_type": "stream",
     "text": [
      "number of features 13\n"
     ]
    }
   ],
   "source": [
    "X_columns = ['support_line','resistance_line','num_candles','price_range_pct', 'num_res_hits', 'num_sup_hits', 'num_res_breakouts',\n",
    "       'num_sup_breakouts', 'alternation', 'last_candle_return',\n",
    "       'last_candle_pct_above_support',\n",
    "       'concentration_score_scaled', 'alternation_score_scaled'] # 'breakout_type', i think sideway score doesnt matter so its excluded, excluded resistance_hits, support_hits cos categorical\n",
    "print('number of features', len(X_columns))"
   ]
  },
  {
   "cell_type": "code",
   "execution_count": 64,
   "metadata": {},
   "outputs": [
    {
     "data": {
      "text/html": [
       "<div>\n",
       "<style scoped>\n",
       "    .dataframe tbody tr th:only-of-type {\n",
       "        vertical-align: middle;\n",
       "    }\n",
       "\n",
       "    .dataframe tbody tr th {\n",
       "        vertical-align: top;\n",
       "    }\n",
       "\n",
       "    .dataframe thead th {\n",
       "        text-align: right;\n",
       "    }\n",
       "</style>\n",
       "<table border=\"1\" class=\"dataframe\">\n",
       "  <thead>\n",
       "    <tr style=\"text-align: right;\">\n",
       "      <th></th>\n",
       "      <th>support_line</th>\n",
       "      <th>resistance_line</th>\n",
       "      <th>num_candles</th>\n",
       "      <th>price_range_pct</th>\n",
       "      <th>num_res_hits</th>\n",
       "      <th>num_sup_hits</th>\n",
       "      <th>num_res_breakouts</th>\n",
       "      <th>num_sup_breakouts</th>\n",
       "      <th>alternation</th>\n",
       "      <th>last_candle_return</th>\n",
       "      <th>last_candle_pct_above_support</th>\n",
       "      <th>concentration_score_scaled</th>\n",
       "      <th>alternation_score_scaled</th>\n",
       "    </tr>\n",
       "  </thead>\n",
       "  <tbody>\n",
       "    <tr>\n",
       "      <th>0</th>\n",
       "      <td>21.108117</td>\n",
       "      <td>21.807559</td>\n",
       "      <td>35.0</td>\n",
       "      <td>0.033136</td>\n",
       "      <td>4.0</td>\n",
       "      <td>4.0</td>\n",
       "      <td>0.0</td>\n",
       "      <td>2.0</td>\n",
       "      <td>8.0</td>\n",
       "      <td>-0.010173</td>\n",
       "      <td>0.911989</td>\n",
       "      <td>0.035401</td>\n",
       "      <td>1.0</td>\n",
       "    </tr>\n",
       "    <tr>\n",
       "      <th>1</th>\n",
       "      <td>51.546461</td>\n",
       "      <td>53.536192</td>\n",
       "      <td>30.0</td>\n",
       "      <td>0.038601</td>\n",
       "      <td>4.0</td>\n",
       "      <td>4.0</td>\n",
       "      <td>0.0</td>\n",
       "      <td>0.0</td>\n",
       "      <td>6.0</td>\n",
       "      <td>-0.000186</td>\n",
       "      <td>1.082327</td>\n",
       "      <td>0.845818</td>\n",
       "      <td>0.6</td>\n",
       "    </tr>\n",
       "    <tr>\n",
       "      <th>2</th>\n",
       "      <td>69.241493</td>\n",
       "      <td>74.797533</td>\n",
       "      <td>30.0</td>\n",
       "      <td>0.080241</td>\n",
       "      <td>4.0</td>\n",
       "      <td>3.0</td>\n",
       "      <td>1.0</td>\n",
       "      <td>0.0</td>\n",
       "      <td>6.0</td>\n",
       "      <td>0.000424</td>\n",
       "      <td>0.264308</td>\n",
       "      <td>0.776190</td>\n",
       "      <td>0.6</td>\n",
       "    </tr>\n",
       "    <tr>\n",
       "      <th>3</th>\n",
       "      <td>97.771290</td>\n",
       "      <td>101.462904</td>\n",
       "      <td>50.0</td>\n",
       "      <td>0.037758</td>\n",
       "      <td>5.0</td>\n",
       "      <td>4.0</td>\n",
       "      <td>1.0</td>\n",
       "      <td>1.0</td>\n",
       "      <td>7.0</td>\n",
       "      <td>-0.011473</td>\n",
       "      <td>-0.344372</td>\n",
       "      <td>0.192030</td>\n",
       "      <td>0.8</td>\n",
       "    </tr>\n",
       "    <tr>\n",
       "      <th>4</th>\n",
       "      <td>105.234297</td>\n",
       "      <td>119.161568</td>\n",
       "      <td>75.0</td>\n",
       "      <td>0.132345</td>\n",
       "      <td>4.0</td>\n",
       "      <td>6.0</td>\n",
       "      <td>2.0</td>\n",
       "      <td>0.0</td>\n",
       "      <td>7.0</td>\n",
       "      <td>-0.003113</td>\n",
       "      <td>1.182263</td>\n",
       "      <td>0.117197</td>\n",
       "      <td>0.8</td>\n",
       "    </tr>\n",
       "  </tbody>\n",
       "</table>\n",
       "</div>"
      ],
      "text/plain": [
       "   support_line  resistance_line  num_candles  price_range_pct  num_res_hits  \\\n",
       "0     21.108117        21.807559         35.0         0.033136           4.0   \n",
       "1     51.546461        53.536192         30.0         0.038601           4.0   \n",
       "2     69.241493        74.797533         30.0         0.080241           4.0   \n",
       "3     97.771290       101.462904         50.0         0.037758           5.0   \n",
       "4    105.234297       119.161568         75.0         0.132345           4.0   \n",
       "\n",
       "   num_sup_hits  num_res_breakouts  num_sup_breakouts  alternation  \\\n",
       "0           4.0                0.0                2.0          8.0   \n",
       "1           4.0                0.0                0.0          6.0   \n",
       "2           3.0                1.0                0.0          6.0   \n",
       "3           4.0                1.0                1.0          7.0   \n",
       "4           6.0                2.0                0.0          7.0   \n",
       "\n",
       "   last_candle_return  last_candle_pct_above_support  \\\n",
       "0           -0.010173                       0.911989   \n",
       "1           -0.000186                       1.082327   \n",
       "2            0.000424                       0.264308   \n",
       "3           -0.011473                      -0.344372   \n",
       "4           -0.003113                       1.182263   \n",
       "\n",
       "   concentration_score_scaled  alternation_score_scaled  \n",
       "0                    0.035401                       1.0  \n",
       "1                    0.845818                       0.6  \n",
       "2                    0.776190                       0.6  \n",
       "3                    0.192030                       0.8  \n",
       "4                    0.117197                       0.8  "
      ]
     },
     "execution_count": 64,
     "metadata": {},
     "output_type": "execute_result"
    }
   ],
   "source": [
    "X = df[X_columns]\n",
    "X.head()"
   ]
  },
  {
   "cell_type": "code",
   "execution_count": 65,
   "metadata": {},
   "outputs": [
    {
     "data": {
      "text/plain": [
       "support_line                     0\n",
       "resistance_line                  0\n",
       "num_candles                      0\n",
       "price_range_pct                  0\n",
       "num_res_hits                     0\n",
       "num_sup_hits                     0\n",
       "num_res_breakouts                0\n",
       "num_sup_breakouts                0\n",
       "alternation                      0\n",
       "last_candle_return               0\n",
       "last_candle_pct_above_support    0\n",
       "concentration_score_scaled       0\n",
       "alternation_score_scaled         0\n",
       "dtype: int64"
      ]
     },
     "execution_count": 65,
     "metadata": {},
     "output_type": "execute_result"
    }
   ],
   "source": [
    "X.isnull().sum()"
   ]
  },
  {
   "cell_type": "code",
   "execution_count": 66,
   "metadata": {},
   "outputs": [
    {
     "name": "stdout",
     "output_type": "stream",
     "text": [
      "support_line                     float64\n",
      "resistance_line                  float64\n",
      "num_candles                      float64\n",
      "price_range_pct                  float64\n",
      "num_res_hits                     float64\n",
      "num_sup_hits                     float64\n",
      "num_res_breakouts                float64\n",
      "num_sup_breakouts                float64\n",
      "alternation                      float64\n",
      "last_candle_return               float64\n",
      "last_candle_pct_above_support    float64\n",
      "concentration_score_scaled       float64\n",
      "alternation_score_scaled         float64\n",
      "dtype: object\n"
     ]
    }
   ],
   "source": [
    "# Check the data types of your features\n",
    "print(df[X_columns].dtypes)"
   ]
  },
  {
   "cell_type": "code",
   "execution_count": 67,
   "metadata": {},
   "outputs": [],
   "source": [
    "y_columns = ['post_sideway_5_bar_change'] #can do for other variations, experiment for 5 days one first, noticed 132 got missing value"
   ]
  },
  {
   "cell_type": "code",
   "execution_count": 12,
   "metadata": {},
   "outputs": [
    {
     "ename": "NameError",
     "evalue": "name 'y_columns' is not defined",
     "output_type": "error",
     "traceback": [
      "\u001b[0;31m---------------------------------------------------------------------------\u001b[0m",
      "\u001b[0;31mNameError\u001b[0m                                 Traceback (most recent call last)",
      "Cell \u001b[0;32mIn[12], line 1\u001b[0m\n\u001b[0;32m----> 1\u001b[0m y \u001b[38;5;241m=\u001b[39m df[\u001b[43my_columns\u001b[49m[\u001b[38;5;241m0\u001b[39m]]\n\u001b[1;32m      2\u001b[0m y\u001b[38;5;241m.\u001b[39mhead()\n",
      "\u001b[0;31mNameError\u001b[0m: name 'y_columns' is not defined"
     ]
    }
   ],
   "source": [
    "y = df[y_columns[0]]\n",
    "y.head()"
   ]
  },
  {
   "cell_type": "code",
   "execution_count": 13,
   "metadata": {},
   "outputs": [
    {
     "ename": "NameError",
     "evalue": "name 'y' is not defined",
     "output_type": "error",
     "traceback": [
      "\u001b[0;31m---------------------------------------------------------------------------\u001b[0m",
      "\u001b[0;31mNameError\u001b[0m                                 Traceback (most recent call last)",
      "Cell \u001b[0;32mIn[13], line 1\u001b[0m\n\u001b[0;32m----> 1\u001b[0m \u001b[43my\u001b[49m\u001b[38;5;241m.\u001b[39misnull()\u001b[38;5;241m.\u001b[39msum()\n",
      "\u001b[0;31mNameError\u001b[0m: name 'y' is not defined"
     ]
    }
   ],
   "source": [
    "y.isnull().sum()"
   ]
  },
  {
   "cell_type": "markdown",
   "metadata": {},
   "source": [
    "Investigating sideways that does not fulfil the criteria of BULLISH or BEARISH"
   ]
  },
  {
   "cell_type": "code",
   "execution_count": 68,
   "metadata": {},
   "outputs": [
    {
     "name": "stdout",
     "output_type": "stream",
     "text": [
      "    SYMBOL  start_date    end_date  post_sideway_5_bar_change breakout_type  \\\n",
      "156     KO  2014-01-27  2014-04-07                  -0.039504       BULLISH   \n",
      "\n",
      "     support_line  resistance_line  \n",
      "156     37.109549        38.941389  \n"
     ]
    }
   ],
   "source": [
    "# Sample one row from the DataFrame and select specific columns\n",
    "print(df.sample(n=1, random_state=2022)[['SYMBOL','start_date','end_date','post_sideway_5_bar_change', 'breakout_type','support_line','resistance_line']])"
   ]
  },
  {
   "cell_type": "code",
   "execution_count": 69,
   "metadata": {},
   "outputs": [
    {
     "name": "stdout",
     "output_type": "stream",
     "text": [
      "(378, 64)\n"
     ]
    }
   ],
   "source": [
    "# Define the condition\n",
    "condition = (\n",
    "    ((df['breakout_type'] == 'BULLISH') & (df['post_sideway_5_bar_change'] > 0)) |\n",
    "    ((df['breakout_type'] == 'BEARISH') & (df['post_sideway_5_bar_change'] < 0))\n",
    ")\n",
    "\n",
    "# Get rows that do NOT meet the condition\n",
    "violating_rows = df[~condition]\n",
    "\n",
    "# Display the rows that did not fulfill the criteria\n",
    "print(violating_rows.shape)"
   ]
  },
  {
   "cell_type": "code",
   "execution_count": 70,
   "metadata": {},
   "outputs": [
    {
     "name": "stdout",
     "output_type": "stream",
     "text": [
      "(479, 64)\n"
     ]
    }
   ],
   "source": [
    "valid_rows = df[condition]\n",
    "print(valid_rows.shape)"
   ]
  },
  {
   "cell_type": "code",
   "execution_count": 71,
   "metadata": {},
   "outputs": [
    {
     "name": "stdout",
     "output_type": "stream",
     "text": [
      "    SYMBOL  start_date    end_date  post_sideway_5_bar_change breakout_type  \\\n",
      "786    PFE  2022-03-03  2022-06-17                   0.028643       BEARISH   \n",
      "\n",
      "     support_line  resistance_line  \n",
      "786      48.12855        54.106769  \n"
     ]
    }
   ],
   "source": [
    "# sample one violated sideway/ row to check\n",
    "print(violating_rows.sample(n=1, random_state=2022)[['SYMBOL','start_date','end_date','post_sideway_5_bar_change', 'breakout_type','support_line','resistance_line']])"
   ]
  },
  {
   "cell_type": "code",
   "execution_count": 72,
   "metadata": {},
   "outputs": [
    {
     "name": "stdout",
     "output_type": "stream",
     "text": [
      "   SYMBOL  start_date    end_date  post_sideway_5_bar_change breakout_type  \\\n",
      "60    JNJ  2020-04-07  2021-01-06                   0.074047       BULLISH   \n",
      "\n",
      "    support_line  resistance_line  \n",
      "60    137.414705       155.229221  \n"
     ]
    }
   ],
   "source": [
    "# sample one valid row to check\n",
    "print(valid_rows.sample(n=1, random_state=2022)[['SYMBOL','start_date','end_date','post_sideway_5_bar_change', 'breakout_type','support_line','resistance_line']])"
   ]
  },
  {
   "cell_type": "code",
   "execution_count": 73,
   "metadata": {},
   "outputs": [
    {
     "data": {
      "image/png": "[encoded data removed]",
      "text/plain": [
       "<Figure size 1500x1000 with 16 Axes>"
      ]
     },
     "metadata": {},
     "output_type": "display_data"
    }
   ],
   "source": [
    "# Plot histograms to visualise the distributions\n",
    "valid_rows[X_columns].hist(bins=20, figsize=(15, 10))\n",
    "plt.suptitle('Histograms of Features')\n",
    "plt.show()"
   ]
  },
  {
   "cell_type": "markdown",
   "metadata": {},
   "source": [
    "Might want to exclude those sideways between 0 to 180 days instead"
   ]
  },
  {
   "cell_type": "code",
   "execution_count": 74,
   "metadata": {},
   "outputs": [
    {
     "name": "stdout",
     "output_type": "stream",
     "text": [
      "count    479.000000\n",
      "mean     120.814196\n",
      "std       70.962193\n",
      "min       25.000000\n",
      "25%       60.000000\n",
      "50%      100.000000\n",
      "75%      180.000000\n",
      "max      250.000000\n",
      "Name: num_candles, dtype: float64\n"
     ]
    }
   ],
   "source": [
    "print(valid_rows['num_candles'].describe())"
   ]
  },
  {
   "cell_type": "code",
   "execution_count": 75,
   "metadata": {},
   "outputs": [
    {
     "data": {
      "text/plain": [
       "Index(['SYMBOL', 'INTERVAL', 'DATA_DURATION', 'DATA_DURATION_UNITS',\n",
       "       'MIN_PRICE_RANGE_PCT', 'MAX_PRICE_RANGE_PCT', 'MIN_CANDLE_COUNT',\n",
       "       'MAX_CANDLE_COUNT', 'WINDOW_START_STRIDE', 'WINDOW_END_STRIDE',\n",
       "       'RESISTANCE_AREA_PCT', 'SUPPORT_AREA_PCT', 'MIN_HIT_RESISTANCE_COUNT',\n",
       "       'MIN_HIT_SUPPORT_COUNT', 'CONSIDER_PIN', 'MIN_ALTERNATION',\n",
       "       'MIN_LAST_CANDLE_RETURN_LIVE', 'LAST_CANDLE_MIN_PCT_ABOVE_SUPPORT_LIVE',\n",
       "       'NUM_CANDLES_PAUSE', 'PCT_CANDLES_PAUSE', 'MIN_BREAKOUT_PCT',\n",
       "       'USING_RATIO', 'MIN_OUTSIDE_CANDLE_COUNT',\n",
       "       'OUTSIDE_TO_INSIDE_CANDLE_RATIO', 'DESIRED_BINS',\n",
       "       'PEAK_TROUGH_LOOKUP_WIDTH', 'UNIQUE_HIT_VALUES',\n",
       "       'PRICE_RANGE_TOLERANCE', 'ABSOLUTE_NUM_CANDLES_DIFFERENCE',\n",
       "       'PCT_CANDLES_DIFFERENCE', 'NUM_CANDLES_DIFFERENCE', 'resistance_line',\n",
       "       'support_line', 'start_date', 'end_date', 'num_candles',\n",
       "       'price_range_pct', 'num_res_hits', 'num_sup_hits', 'num_res_breakouts',\n",
       "       'num_sup_breakouts', 'alternation', 'last_candle_return',\n",
       "       'last_candle_pct_above_support', 'resistance_hits', 'support_hits',\n",
       "       'breakout_type', 'concentration_score',\n",
       "       'customer_pre_sideway_bar_change', 'customer_post_sideway_bar_change',\n",
       "       'pre_sideway_5_bar_change', 'pre_sideway_10_bar_change',\n",
       "       'pre_sideway_22_bar_change', 'pre_sideway_44_bar_change',\n",
       "       'pre_sideway_132_bar_change', 'post_sideway_5_bar_change',\n",
       "       'post_sideway_10_bar_change', 'post_sideway_22_bar_change',\n",
       "       'post_sideway_44_bar_change', 'post_sideway_132_bar_change',\n",
       "       'concentration_score_scaled', 'alternation_score_scaled',\n",
       "       'max_alternation', 'sideway_score'],\n",
       "      dtype='object')"
      ]
     },
     "execution_count": 75,
     "metadata": {},
     "output_type": "execute_result"
    }
   ],
   "source": [
    "valid_rows.columns"
   ]
  },
  {
   "cell_type": "code",
   "execution_count": 76,
   "metadata": {},
   "outputs": [
    {
     "name": "stdout",
     "output_type": "stream",
     "text": [
      "Original data shape: (412, 64)\n",
      "Filtered data shape: (412, 64)\n"
     ]
    }
   ],
   "source": [
    "# Define custom threshold for num_candles\n",
    "threshold = 220\n",
    "\n",
    "# Filter rows where num_candles <= threshold\n",
    "final_df = valid_rows[valid_rows['num_candles'] <= threshold]\n",
    "\n",
    "# Print results\n",
    "print(f\"Original data shape: {final_df.shape}\")\n",
    "print(f\"Filtered data shape: {final_df.shape}\")"
   ]
  },
  {
   "cell_type": "markdown",
   "metadata": {},
   "source": [
    "Data imputation on pre_sideway_N_bar_change to Zero instead"
   ]
  },
  {
   "cell_type": "code",
   "execution_count": 77,
   "metadata": {},
   "outputs": [
    {
     "name": "stdout",
     "output_type": "stream",
     "text": [
      "pre_sideway_5_bar_change      0\n",
      "pre_sideway_10_bar_change     0\n",
      "pre_sideway_22_bar_change     0\n",
      "pre_sideway_44_bar_change     0\n",
      "pre_sideway_132_bar_change    0\n",
      "dtype: int64\n"
     ]
    },
    {
     "name": "stderr",
     "output_type": "stream",
     "text": [
      "/var/folders/nq/4fxsdz0s2vq7ycb8v7hnffc80000gn/T/ipykernel_99448/4117606688.py:5: SettingWithCopyWarning: \n",
      "A value is trying to be set on a copy of a slice from a DataFrame.\n",
      "Try using .loc[row_indexer,col_indexer] = value instead\n",
      "\n",
      "See the caveats in the documentation: https://pandas.pydata.org/pandas-docs/stable/user_guide/indexing.html#returning-a-view-versus-a-copy\n",
      "  final_df[columns_to_fill] = final_df[columns_to_fill].fillna(0)\n"
     ]
    }
   ],
   "source": [
    "# Replace missing values in specific columns with 0\n",
    "columns_to_fill = ['pre_sideway_5_bar_change', 'pre_sideway_10_bar_change',\n",
    "       'pre_sideway_22_bar_change', 'pre_sideway_44_bar_change',\n",
    "       'pre_sideway_132_bar_change'] \n",
    "final_df[columns_to_fill] = final_df[columns_to_fill].fillna(0)\n",
    "\n",
    "# Double Check for missing values in those columns\n",
    "print(final_df[columns_to_fill].isnull().sum())"
   ]
  },
  {
   "cell_type": "code",
   "execution_count": null,
   "metadata": {},
   "outputs": [],
   "source": [
    "final"
   ]
  },
  {
   "cell_type": "code",
   "execution_count": 78,
   "metadata": {},
   "outputs": [
    {
     "name": "stdout",
     "output_type": "stream",
     "text": [
      "Total rows: 412\n",
      "Rows required for one split: 252\n",
      "Train days: 126, Validation days: 63, Test days: 63\n",
      "True\n",
      "True\n",
      "True\n"
     ]
    }
   ],
   "source": [
    "desired_X_list = ['resistance_line',\n",
    "       'support_line', 'start_date', 'end_date', 'num_candles',\n",
    "       'price_range_pct', 'num_res_hits', 'num_sup_hits', 'num_res_breakouts',\n",
    "       'num_sup_breakouts', 'alternation', 'last_candle_return',\n",
    "       'last_candle_pct_above_support', 'resistance_hits', 'support_hits',\n",
    "       'breakout_type', 'concentration_score',\n",
    "       'customer_pre_sideway_bar_change', 'customer_post_sideway_bar_change',\n",
    "       'pre_sideway_5_bar_change', 'pre_sideway_10_bar_change',\n",
    "       'pre_sideway_22_bar_change', 'pre_sideway_44_bar_change',\n",
    "       'pre_sideway_132_bar_change', 'post_sideway_5_bar_change','concentration_score_scaled', 'alternation_score_scaled',\n",
    "       'sideway_score']\n",
    "# desired_y_list = ['post_sideway_5_bar_change',\n",
    "#        'post_sideway_10_bar_change', 'post_sideway_22_bar_change',\n",
    "#        'post_sideway_44_bar_change', 'post_sideway_132_bar_change']\n",
    "desired_y_list = ['post_sideway_5_bar_change']\n",
    "\n",
    "def rolling_backtest(df, train_years, val_years, test_years, step_years):\n",
    "    '''\n",
    "    This function will generate rolling train, validation, and test sets.\n",
    "    '''\n",
    "    results = []  # Store the train, validation, and test indices\n",
    "\n",
    "    # Convert periods into row indices based on your data frequency (assume daily here)\n",
    "    train_days = int(train_years * 252)  # Approx. 252 trading days in a year\n",
    "    val_days = int(val_years * 252)\n",
    "    test_days = int(test_years * 252)\n",
    "    step_days = int(step_years * 252)\n",
    "\n",
    "    start_idx = 0\n",
    "    print(f\"Total rows: {len(df)}\")\n",
    "    print(f\"Rows required for one split: {train_days + val_days + test_days}\")\n",
    "    print(f\"Train days: {train_days}, Validation days: {val_days}, Test days: {test_days}\")\n",
    "\n",
    "    while start_idx + train_days + val_days + test_days <= len(df):\n",
    "        print(True)  # Debug: Entering the loop\n",
    "        train_start = int(start_idx)\n",
    "        train_end = int(start_idx + train_days)\n",
    "        val_start = int(train_end)\n",
    "        val_end = int(train_end + val_days)\n",
    "        test_start = int(val_end)\n",
    "        test_end = int(val_end + test_days)\n",
    "\n",
    "        # Append indices for train, validation, test\n",
    "        results.append({\n",
    "            'train': df.iloc[train_start:train_end],\n",
    "            'val': df.iloc[val_start:val_end],\n",
    "            'test': df.iloc[test_start:test_end]\n",
    "        })\n",
    "\n",
    "        # Roll the window forward\n",
    "        start_idx += step_days\n",
    "\n",
    "    return results\n",
    "\n",
    "# Parameters: Train 5 years, validate 1 year, test 1 year, roll forward 1 year\n",
    "# To sort the df by start date first | global rolling backtest, treating the data as a pooled time-series dataset.\n",
    "final_df = final_df.sort_values(by=['start_date']).reset_index(drop=True)\n",
    "\n",
    "# Perform a single rolling backtest on the combined data\n",
    "splits = rolling_backtest(final_df, \n",
    "                          train_years=0.5, val_years=0.25, test_years=0.25, step_years=0.25)"
   ]
  },
  {
   "cell_type": "code",
   "execution_count": 55,
   "metadata": {},
   "outputs": [
    {
     "name": "stdout",
     "output_type": "stream",
     "text": [
      "Data saved successfully.\n"
     ]
    }
   ],
   "source": [
    "import os\n",
    "\n",
    "# Create directories for saving data\n",
    "os.makedirs(\"rolling_backtest/train\", exist_ok=True)\n",
    "os.makedirs(\"rolling_backtest/val\", exist_ok=True)\n",
    "os.makedirs(\"rolling_backtest/test\", exist_ok=True)\n",
    "\n",
    "# Save each split\n",
    "for i, split in enumerate(splits):\n",
    "    split_number = i + 1\n",
    "    split['train'].to_csv(f\"rolling_backtest/train/split_{split_number}_train.csv\", index=False)\n",
    "    split['val'].to_csv(f\"rolling_backtest/val/split_{split_number}_val.csv\", index=False)\n",
    "    split['test'].to_csv(f\"rolling_backtest/test/split_{split_number}_test.csv\", index=False)\n",
    "\n",
    "print(\"Data saved successfully.\")"
   ]
  },
  {
   "cell_type": "markdown",
   "metadata": {},
   "source": [
    "Normal split by random"
   ]
  },
  {
   "cell_type": "code",
   "execution_count": null,
   "metadata": {},
   "outputs": [],
   "source": [
    "def save_dfs(df, desired_X_list, desired_y_list):\n",
    "# Separate features (X) and target (y)\n",
    "    df_copy = df.copy()\n",
    "    X = df_copy[desired_X_list]\n",
    "    y = df_copy[desired_y_list]\n",
    "\n",
    "    # Split into training and testing sets\n",
    "    from sklearn.model_selection import train_test_split\n",
    "\n",
    "    X_train, X_test, y_train, y_test = train_test_split(X, y, test_size=0.2, random_state=42)\n",
    "\n",
    "    # Save to CSV files\n",
    "    X_train.to_csv('X_train.csv', index=False)\n",
    "    X_test.to_csv('X_test.csv', index=False)\n",
    "    y_train.to_csv('y_train.csv', index=False)\n",
    "    y_test.to_csv('y_test.csv', index=False)\n",
    "\n",
    "\n",
    "    print(\"Valid rows have been filtered and saved to CSV files.\")\n",
    "    # Print the number of rows and columns\n",
    "    print(f\"X_train.csv: {X_train.shape[0]} rows, {X_train.shape[1]} columns\")\n",
    "    print(f\"X_test.csv: {X_test.shape[0]} rows, {X_test.shape[1]} columns\")\n",
    "    print(f\"y_train.csv: {y_train.shape[0]} rows, {y_train.shape[1]} columns\") \n",
    "    print(f\"y_train.csv: {y_test.shape[0]} rows, {y_test.shape[1]} columns\")\n",
    "\n",
    "save_dfs(final_df, desired_X_list, desired_y_list)"
   ]
  },
  {
   "cell_type": "code",
   "execution_count": null,
   "metadata": {},
   "outputs": [
    {
     "name": "stdout",
     "output_type": "stream",
     "text": [
      "                           num_candles  post_sideway_5_bar_change\n",
      "num_candles                   1.000000                   0.053168\n",
      "post_sideway_5_bar_change     0.053168                   1.000000\n"
     ]
    }
   ],
   "source": [
    "#print(df[['num_candles', 'post_sideway_5_bar_change']].corr())"
   ]
  },
  {
   "cell_type": "code",
   "execution_count": 36,
   "metadata": {},
   "outputs": [
    {
     "data": {
      "image/png": "[encoded data removed]",
      "text/plain": [
       "<Figure size 640x480 with 1 Axes>"
      ]
     },
     "metadata": {},
     "output_type": "display_data"
    }
   ],
   "source": [
    "y.hist(bins=20, edgecolor='k')\n",
    "plt.title('Distribution of Target Variable (y)')\n",
    "plt.xlabel('Value')\n",
    "plt.ylabel('Frequency')\n",
    "plt.show()"
   ]
  },
  {
   "cell_type": "markdown",
   "metadata": {},
   "source": [
    "Starting from here is building models and experimentation"
   ]
  },
  {
   "cell_type": "code",
   "execution_count": 37,
   "metadata": {},
   "outputs": [],
   "source": [
    "import pandas as pd\n",
    "import numpy as np\n",
    "from sklearn.model_selection import train_test_split\n",
    "from sklearn.linear_model import LinearRegression\n",
    "from sklearn.ensemble import RandomForestRegressor\n",
    "from sklearn.metrics import mean_squared_error, r2_score"
   ]
  },
  {
   "cell_type": "code",
   "execution_count": null,
   "metadata": {},
   "outputs": [],
   "source": [
    "# Split into training and testing sets\n",
    "X_train, X_test, y_train, y_test = train_test_split(X, y, test_size=0.2, random_state=42)"
   ]
  },
  {
   "cell_type": "code",
   "execution_count": 39,
   "metadata": {},
   "outputs": [
    {
     "name": "stdout",
     "output_type": "stream",
     "text": [
      "Linear Regression - MSE: 0.0015, R^2: 0.0650\n"
     ]
    }
   ],
   "source": [
    "# Linear Regression\n",
    "lr = LinearRegression()\n",
    "lr.fit(X_train, y_train)\n",
    "\n",
    "# Predict\n",
    "y_pred_lr = lr.predict(X_test)\n",
    "\n",
    "# Evaluate\n",
    "mse_lr = mean_squared_error(y_test, y_pred_lr)\n",
    "r2_lr = r2_score(y_test, y_pred_lr)\n",
    "print(f\"Linear Regression - MSE: {mse_lr:.4f}, R^2: {r2_lr:.4f}\")"
   ]
  },
  {
   "cell_type": "code",
   "execution_count": 40,
   "metadata": {},
   "outputs": [
    {
     "name": "stdout",
     "output_type": "stream",
     "text": [
      "Random Forest - MSE: 0.0013, R^2: 0.1394\n"
     ]
    }
   ],
   "source": [
    "# Random Forest Regressor\n",
    "rf = RandomForestRegressor(random_state=42)\n",
    "rf.fit(X_train, y_train)\n",
    "\n",
    "# Predict\n",
    "y_pred_rf = rf.predict(X_test)\n",
    "\n",
    "# Evaluate\n",
    "mse_rf = mean_squared_error(y_test, y_pred_rf)\n",
    "r2_rf = r2_score(y_test, y_pred_rf)\n",
    "print(f\"Random Forest - MSE: {mse_rf:.4f}, R^2: {r2_rf:.4f}\")"
   ]
  },
  {
   "cell_type": "code",
   "execution_count": 41,
   "metadata": {},
   "outputs": [
    {
     "name": "stdout",
     "output_type": "stream",
     "text": [
      "Gradient Boosting - MSE: 0.0014, R^2: 0.0862\n"
     ]
    }
   ],
   "source": [
    "from sklearn.ensemble import GradientBoostingRegressor\n",
    "\n",
    "# Gradient Boosting Regressor\n",
    "gb = GradientBoostingRegressor(random_state=42)\n",
    "gb.fit(X_train, y_train)\n",
    "\n",
    "# Predict\n",
    "y_pred_gb = gb.predict(X_test)\n",
    "\n",
    "# Evaluate\n",
    "mse_gb = mean_squared_error(y_test, y_pred_gb)\n",
    "r2_gb = r2_score(y_test, y_pred_gb)\n",
    "print(f\"Gradient Boosting - MSE: {mse_gb:.4f}, R^2: {r2_gb:.4f}\")"
   ]
  },
  {
   "cell_type": "markdown",
   "metadata": {},
   "source": [
    "Hyperparamter tuning for RF"
   ]
  },
  {
   "cell_type": "code",
   "execution_count": 42,
   "metadata": {},
   "outputs": [
    {
     "name": "stdout",
     "output_type": "stream",
     "text": [
      "Best Parameters: {'max_depth': 10, 'min_samples_split': 10, 'n_estimators': 200}\n"
     ]
    }
   ],
   "source": [
    "from sklearn.model_selection import GridSearchCV\n",
    "\n",
    "# Example for Random Forest\n",
    "param_grid = {\n",
    "    'n_estimators': [50, 100, 200],\n",
    "    'max_depth': [None, 10, 20],\n",
    "    'min_samples_split': [2, 5, 10],\n",
    "}\n",
    "\n",
    "grid_search = GridSearchCV(estimator=RandomForestRegressor(random_state=42), param_grid=param_grid, cv=3)\n",
    "grid_search.fit(X_train, y_train)\n",
    "\n",
    "print(f\"Best Parameters: {grid_search.best_params_}\")\n",
    "best_rf = grid_search.best_estimator_"
   ]
  },
  {
   "cell_type": "code",
   "execution_count": 44,
   "metadata": {},
   "outputs": [
    {
     "name": "stdout",
     "output_type": "stream",
     "text": [
      "Optimized Random Forest - MSE: 0.0013, R^2: 0.1709\n"
     ]
    }
   ],
   "source": [
    "from sklearn.metrics import mean_squared_error, r2_score\n",
    "\n",
    "# Instantiate the Random Forest with best parameters\n",
    "best_rf = RandomForestRegressor(max_depth=10, min_samples_split=10, n_estimators=200, random_state=42)\n",
    "\n",
    "# Fit the model on training data\n",
    "best_rf.fit(X_train, y_train)\n",
    "\n",
    "# Predict on the test set\n",
    "y_pred_best_rf = best_rf.predict(X_test)\n",
    "\n",
    "# Evaluate the model\n",
    "mse_best_rf = mean_squared_error(y_test, y_pred_best_rf)\n",
    "r2_best_rf = r2_score(y_test, y_pred_best_rf)\n",
    "\n",
    "print(f\"Optimized Random Forest - MSE: {mse_best_rf:.4f}, R^2: {r2_best_rf:.4f}\")"
   ]
  },
  {
   "cell_type": "markdown",
   "metadata": {},
   "source": [
    "Hyperparameter Tuning for XGBoost"
   ]
  },
  {
   "cell_type": "code",
   "execution_count": 51,
   "metadata": {},
   "outputs": [
    {
     "name": "stdout",
     "output_type": "stream",
     "text": [
      "Fitting 3 folds for each of 432 candidates, totalling 1296 fits\n",
      "Best Parameters: {'colsample_bytree': 0.8, 'learning_rate': 0.01, 'max_depth': 3, 'min_child_weight': 5, 'n_estimators': 200, 'subsample': 1.0}\n"
     ]
    }
   ],
   "source": [
    "from xgboost import XGBRegressor\n",
    "\n",
    "# Define the base model\n",
    "xgb = XGBRegressor(objective='reg:squarederror', random_state=42)\n",
    "\n",
    "# Define the parameter grid\n",
    "param_grid = {\n",
    "    'n_estimators': [100, 200, 300],           # Number of trees\n",
    "    'max_depth': [3, 5, 7, 10],               # Maximum depth of trees\n",
    "    'learning_rate': [0.01, 0.1, 0.2],        # Learning rate (eta)\n",
    "    'subsample': [0.8, 1.0],                  # Fraction of samples for training each tree\n",
    "    'colsample_bytree': [0.8, 1.0],           # Fraction of features for training each tree\n",
    "    'min_child_weight': [1, 3, 5]             # Minimum sum of instance weight needed in a child\n",
    "}\n",
    "\n",
    "# Use GridSearchCV to find the best parameters\n",
    "grid_search = GridSearchCV(\n",
    "    estimator=xgb,\n",
    "    param_grid=param_grid,\n",
    "    scoring='neg_mean_squared_error',  # Use negative MSE for regression tasks\n",
    "    cv=3,                              # 3-fold cross-validation\n",
    "    verbose=1,\n",
    "    n_jobs=-1                          # Use all available cores\n",
    ")\n",
    "\n",
    "# Fit the model\n",
    "grid_search.fit(X_train, y_train)\n",
    "\n",
    "# Print the best parameters\n",
    "print(f\"Best Parameters: {grid_search.best_params_}\")\n"
   ]
  },
  {
   "cell_type": "code",
   "execution_count": 52,
   "metadata": {},
   "outputs": [
    {
     "name": "stdout",
     "output_type": "stream",
     "text": [
      "Optimized XGBoost - MSE: 0.0014, R^2: 0.1193\n"
     ]
    }
   ],
   "source": [
    "# Use the best model\n",
    "best_xgb = grid_search.best_estimator_\n",
    "\n",
    "# Predict on the test set\n",
    "y_pred_xgb = best_xgb.predict(X_test)\n",
    "\n",
    "# Evaluate the model\n",
    "mse_xgb = mean_squared_error(y_test, y_pred_xgb)\n",
    "r2_xgb = r2_score(y_test, y_pred_xgb)\n",
    "\n",
    "print(f\"Optimized XGBoost - MSE: {mse_xgb:.4f}, R^2: {r2_xgb:.4f}\")"
   ]
  },
  {
   "cell_type": "code",
   "execution_count": 53,
   "metadata": {},
   "outputs": [
    {
     "name": "stdout",
     "output_type": "stream",
     "text": [
      "                         Feature  Importance\n",
      "5              num_sup_breakouts    0.023857\n",
      "1                price_range_pct    0.015039\n",
      "2                   num_res_hits    0.010043\n",
      "3                   num_sup_hits    0.009902\n",
      "6                    alternation    0.009862\n",
      "8  last_candle_pct_above_support    0.009247\n",
      "4              num_res_breakouts    0.009108\n",
      "7             last_candle_return    0.008353\n",
      "0                    num_candles    0.006486\n",
      "9     concentration_score_scaled    0.006458\n"
     ]
    }
   ],
   "source": [
    "import pandas as pd\n",
    "\n",
    "# Get feature importance as a dictionary\n",
    "feature_importances = best_xgb.get_booster().get_score(importance_type='gain')\n",
    "\n",
    "# Convert to a DataFrame for easier interpretation\n",
    "importance_df = pd.DataFrame({\n",
    "    'Feature': feature_importances.keys(),\n",
    "    'Importance': feature_importances.values()\n",
    "}).sort_values(by='Importance', ascending=False)\n",
    "\n",
    "# Display the importance\n",
    "print(importance_df)"
   ]
  },
  {
   "cell_type": "code",
   "execution_count": 56,
   "metadata": {},
   "outputs": [
    {
     "data": {
      "image/png": "[encoded data removed]",
      "text/plain": [
       "<Figure size 1000x600 with 1 Axes>"
      ]
     },
     "metadata": {},
     "output_type": "display_data"
    }
   ],
   "source": [
    "import matplotlib.pyplot as plt\n",
    "\n",
    "# Plot feature importance\n",
    "plt.figure(figsize=(10, 6))\n",
    "plt.barh(importance_df['Feature'], importance_df['Importance'], color='skyblue')\n",
    "plt.gca().invert_yaxis()  # Invert y-axis for readability\n",
    "plt.title('Feature Importance')\n",
    "plt.xlabel('Importance (Gain)')\n",
    "plt.ylabel('Feature')\n",
    "plt.show()"
   ]
  },
  {
   "cell_type": "code",
   "execution_count": null,
   "metadata": {},
   "outputs": [],
   "source": []
  }
 ],
 "metadata": {
  "kernelspec": {
   "display_name": "smumitb",
   "language": "python",
   "name": "python3"
  },
  "language_info": {
   "codemirror_mode": {
    "name": "ipython",
    "version": 3
   },
   "file_extension": ".py",
   "mimetype": "text/x-python",
   "name": "python",
   "nbconvert_exporter": "python",
   "pygments_lexer": "ipython3",
   "version": "3.10.15"
  }
 },
 "nbformat": 4,
 "nbformat_minor": 2
}
